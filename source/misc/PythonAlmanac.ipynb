{
 "cells": [
  {
   "cell_type": "markdown",
   "id": "behind-maine",
   "metadata": {
    "tags": []
   },
   "source": [
    "# The Python Almanac\n",
    "\n",
    "The world of Python packages is adventurous and can be confusing at times.\n",
    "Here, I try to aggregate and showcase a diverse set of Python packages which have become useful at some point."
   ]
  },
  {
   "cell_type": "markdown",
   "id": "outstanding-packing",
   "metadata": {
    "tags": []
   },
   "source": [
    "## Introduction"
   ]
  },
  {
   "cell_type": "markdown",
   "id": "lasting-scott",
   "metadata": {
    "tags": []
   },
   "source": [
    "### Installing Python\n",
    "\n",
    "Normally you should use your system's package manager.\n",
    "In case of problems, try [pyenv](https://github.com/pyenv/pyenv):\n",
    "\n",
    "```bash\n",
    "$ pyenv versions\n",
    "$ pyenv install <foo>\n",
    "$ pyenv global <foo>\n",
    "```\n",
    "\n",
    "This will install the specified Python version to `$(pyenv root)/versions`."
   ]
  },
  {
   "cell_type": "markdown",
   "id": "radical-temple",
   "metadata": {
    "tags": []
   },
   "source": [
    "### Installing packages\n",
    "\n",
    "Python packages can be easily installed from [PyPI (Python Package Index)](https://pypi.org/):\n",
    "\n",
    "```bash\n",
    "$ pip install --user <package> (local install does not clash with system packages)\n",
    "```\n",
    "\n",
    "Using `--user` will install the package only for the current user. This is good if multiple users need different package versions, but can lead to redundant installations.\n",
    "\n",
    "To install from a git repository, use the following command:\n",
    "\n",
    "```bash\n",
    "$ pip install --user -U git+https://github.com/<user>/<repository>@<branch>\n",
    "```"
   ]
  },
  {
   "cell_type": "markdown",
   "id": "respiratory-hayes",
   "metadata": {
    "tags": []
   },
   "source": [
    "### Package management\n",
    "\n",
    "While packages can be installed globally or user-specific, it often makes sense to create project-specific virtual environments.\n",
    "\n",
    "This can be easily accomplished using [venv](https://docs.python.org/3/library/venv.html):\n",
    "\n",
    "```bash\n",
    "$ python -m venv my_venv\n",
    "$ . venv/bin/activate\n",
    "$ pip install <package>\n",
    "```"
   ]
  },
  {
   "cell_type": "markdown",
   "id": "recovered-heather",
   "metadata": {
    "tags": []
   },
   "source": [
    "## Software development"
   ]
  },
  {
   "cell_type": "markdown",
   "id": "excess-weight",
   "metadata": {
    "tags": []
   },
   "source": [
    "### Package Distribution\n",
    "\n",
    "Use `setuptools`.\n",
    "[poetry](https://github.com/sdispater/poetry) handles many otherwise slightly annoying things:\n",
    "```\n",
    "$ poetry init/add/install/run/publish\n",
    "```\n",
    "\n",
    "CI encapsulation: [tox](https://github.com/tox-dev/tox).\n",
    "\n",
    "Keeping track of version numbers can be achieved using [bump2version](https://github.com/c4urself/bump2version).\n",
    "\n",
    "Transform between various project file formats using [dephell](https://github.com/dephell/dephell)."
   ]
  },
  {
   "cell_type": "markdown",
   "id": "descending-portrait",
   "metadata": {
    "tags": []
   },
   "source": [
    "### Testing\n",
    "\n",
    "Setup testing using [pytest](https://github.com/pytest-dev/pytest). It has a wide range of useful features, such as fixtures (modularized per-test setup code) and test parametrization (quickly execute the same test for multiple inputs)."
   ]
  },
  {
   "cell_type": "code",
   "execution_count": 1,
   "id": "yellow-decade",
   "metadata": {
    "tags": []
   },
   "outputs": [
    {
     "name": "stdout",
     "output_type": "stream",
     "text": [
      "Writing /tmp/tests.py\n"
     ]
    }
   ],
   "source": [
    "%%writefile /tmp/tests.py\n",
    "\n",
    "import os\n",
    "import pytest\n",
    "\n",
    "\n",
    "@pytest.fixture(scope='session')\n",
    "def custom_directory(tmp_path_factory):\n",
    "    return tmp_path_factory.mktemp('workflow_test')\n",
    "\n",
    "\n",
    "def test_fixture_execution(custom_directory):\n",
    "    assert os.path.isdir(custom_directory)\n",
    "\n",
    "\n",
    "@pytest.mark.parametrize('expression_str,result', [\n",
    "    ('2+2', 4), ('2*2', 4), ('2**2', 4)\n",
    "])\n",
    "def test_expression_evaluation(expression_str, result):\n",
    "    assert eval(expression_str) == result"
   ]
  },
  {
   "cell_type": "code",
   "execution_count": 2,
   "id": "saved-karma",
   "metadata": {
    "tags": []
   },
   "outputs": [
    {
     "name": "stdout",
     "output_type": "stream",
     "text": [
      "\u001b[1m============================= test session starts ==============================\u001b[0m\r\n",
      "platform darwin -- Python 3.8.6, pytest-6.2.2, py-1.10.0, pluggy-0.13.1 -- /Users/kimja/.pyenv/versions/3.8.6/bin/python3.8\r\n",
      "cachedir: .pytest_cache\r\n",
      "rootdir: /tmp\r\n",
      "plugins: anyio-2.0.2\r\n",
      "\u001b[1mcollecting ... \u001b[0m"
     ]
    },
    {
     "name": "stdout",
     "output_type": "stream",
     "text": [
      "\u001b[1m\r",
      "collected 4 items                                                              \u001b[0m\r\n",
      "\r\n",
      "../../../../../../../../tmp/tests.py::test_fixture_execution \u001b[32mPASSED\u001b[0m\u001b[32m      [ 25%]\u001b[0m\r\n",
      "../../../../../../../../tmp/tests.py::test_expression_evaluation[2+2-4] \u001b[32mPASSED\u001b[0m\u001b[32m [ 50%]\u001b[0m\r\n",
      "../../../../../../../../tmp/tests.py::test_expression_evaluation[2*2-4] \u001b[32mPASSED\u001b[0m\u001b[32m [ 75%]\u001b[0m\r\n",
      "../../../../../../../../tmp/tests.py::test_expression_evaluation[2**2-4] \u001b[32mPASSED\u001b[0m\u001b[32m [100%]\u001b[0m\r\n",
      "\r\n",
      "\u001b[32m============================== \u001b[32m\u001b[1m4 passed\u001b[0m\u001b[32m in 0.03s\u001b[0m\u001b[32m ===============================\u001b[0m\r\n"
     ]
    }
   ],
   "source": [
    "!pytest -v /tmp/tests.py"
   ]
  },
  {
   "cell_type": "markdown",
   "id": "rental-berlin",
   "metadata": {
    "tags": []
   },
   "source": [
    "### Linting/Formatting\n",
    "\n",
    "Linters and code formatters improve the quality of your Python code by conducting a static analysis and flagging issues.\n",
    "\n",
    "* [flake8](https://github.com/PyCQA/flake8): Catch various common errors and adhere to PEP8. Supports many [plugins](https://github.com/DmytroLitvinov/awesome-flake8-extensions).\n",
    "* [pylint](https://github.com/PyCQA/pylint): Looks for even more sources of code smell.\n",
    "* [black](https://github.com/psf/black): \"*the* uncompromising Python code formatter\".\n",
    "\n",
    "While there can be a considerable overlap between the tools' outputs, each offers its own advantages and they can typically be used together."
   ]
  },
  {
   "cell_type": "markdown",
   "id": "foreign-october",
   "metadata": {
    "tags": []
   },
   "source": [
    "### Profiling\n",
    "\n",
    "Code profiling tools are a great way of finding parts of your code which can be optimized.\n",
    "They come in various flavors:\n",
    "\n",
    "* [line_profiler](https://github.com/pyutils/line_profiler): which parts of the code require most execution time\n",
    "* [memory_profiler](https://github.com/pythonprofilers/memory_profiler): which parts of the code consume the most memory"
   ]
  },
  {
   "cell_type": "markdown",
   "id": "spiritual-transportation",
   "metadata": {
    "tags": []
   },
   "source": [
    "Consider the following script (note the `@profile` decorator):"
   ]
  },
  {
   "cell_type": "code",
   "execution_count": 3,
   "id": "expanded-wedding",
   "metadata": {
    "tags": []
   },
   "outputs": [
    {
     "name": "stdout",
     "output_type": "stream",
     "text": [
      "Writing /tmp/script.py\n"
     ]
    }
   ],
   "source": [
    "%%writefile /tmp/script.py\n",
    "\n",
    "@profile\n",
    "def main():\n",
    "    # takes a long time\n",
    "    for _ in range(100_000):\n",
    "        1337**42\n",
    "\n",
    "    # requires a lot of memory\n",
    "    arr = [1] * 1_000_000\n",
    "    \n",
    "main()"
   ]
  },
  {
   "cell_type": "markdown",
   "id": "trying-polyester",
   "metadata": {
    "tags": []
   },
   "source": [
    "#### line_profiler"
   ]
  },
  {
   "cell_type": "code",
   "execution_count": 4,
   "id": "pressing-norfolk",
   "metadata": {
    "tags": []
   },
   "outputs": [
    {
     "name": "stdout",
     "output_type": "stream",
     "text": [
      "Wrote profile results to /tmp/script.py.lprof\r\n",
      "Timer unit: 1e-06 s\r\n",
      "\r\n",
      "Total time: 0.13024 s\r\n",
      "File: /tmp/script.py\r\n",
      "Function: main at line 2\r\n",
      "\r\n",
      "Line #      Hits         Time  Per Hit   % Time  Line Contents\r\n",
      "==============================================================\r\n",
      "     2                                           @profile\r\n",
      "     3                                           def main():\r\n",
      "     4                                               # takes a long time\r\n",
      "     5    100001      33213.0      0.3     25.5      for _ in range(100_000):\r\n",
      "     6    100000      93762.0      0.9     72.0          1337**42\r\n",
      "     7                                           \r\n",
      "     8                                               # requires a lot of memory\r\n",
      "     9         1       3265.0   3265.0      2.5      arr = [1] * 1_000_000\r\n",
      "\r\n"
     ]
    }
   ],
   "source": [
    "!kernprof -l -v -o /tmp/script.py.lprof /tmp/script.py"
   ]
  },
  {
   "cell_type": "markdown",
   "id": "adolescent-times",
   "metadata": {
    "tags": []
   },
   "source": [
    "#### memory_profiler"
   ]
  },
  {
   "cell_type": "code",
   "execution_count": 5,
   "id": "associate-cookie",
   "metadata": {
    "tags": []
   },
   "outputs": [
    {
     "name": "stdout",
     "output_type": "stream",
     "text": [
      "Filename: /tmp/script.py\r\n",
      "\r\n",
      "Line #    Mem usage    Increment  Occurences   Line Contents\r\n",
      "============================================================\r\n",
      "     2   37.668 MiB   37.668 MiB           1   @profile\r\n",
      "     3                                         def main():\r\n",
      "     4                                             # takes a long time\r\n",
      "     5   37.668 MiB    0.000 MiB      100001       for _ in range(100_000):\r\n",
      "     6   37.668 MiB    0.000 MiB      100000           1337**42\r\n",
      "     7                                         \r\n",
      "     8                                             # requires a lot of memory\r\n",
      "     9   45.301 MiB    7.633 MiB           1       arr = [1] * 1_000_000\r\n",
      "\r\n",
      "\r\n"
     ]
    }
   ],
   "source": [
    "!python3 -m memory_profiler /tmp/script.py"
   ]
  },
  {
   "cell_type": "markdown",
   "id": "engaged-mexican",
   "metadata": {
    "tags": []
   },
   "source": [
    "### Debugging"
   ]
  },
  {
   "cell_type": "markdown",
   "id": "lyric-determination",
   "metadata": {
    "tags": []
   },
   "source": [
    "#### Raw python\n",
    "\n",
    "[ipdb](https://github.com/gotcha/ipdb) is useful Python commandline debugger.\n",
    "To invoke it, simply put `import ipdb; ipdb.set_trace()` in your code.\n",
    "Starting with Python 3.7, you can also write `breakpoint()`. This honors the `PYTHONBREAKPOINT` environment variable.\n",
    "To automatically start the debugger when an error occurs, run your script with `python -m ipdb -c continue <script>`.\n",
    "\n",
    "The debugger supports various commands:\n",
    "* p: print expression\n",
    "* pp: pretty print\n",
    "* n: next line in current function\n",
    "* s: execute current line and stop at next possible location (e.g. in function call)\n",
    "* c: continue execution\n",
    "* unt: execute until we reach greater line\n",
    "* l: list source (`l .`)\n",
    "* ll: whole source code of current function\n",
    "* b: breakpoint (`[ ([filename:]lineno | function) [, condition] ]`)\n",
    "* w/bt: print stack trace\n",
    "* u: move up the stack trace\n",
    "* d: move down the stack trace\n",
    "* h: help\n",
    "* q: quit"
   ]
  },
  {
   "cell_type": "markdown",
   "id": "southwest-saturn",
   "metadata": {
    "tags": []
   },
   "source": [
    "#### C++ extension:\n",
    "Open two windows: ipython, ldb (gdb)\n",
    "\n",
    "In [1]: !ps aux | grep -i ipython\n",
    "(lldb) attach --pid 1234\n",
    "(lldb) continue\n",
    "\n",
    "(lldb) breakpoint set -f myfile.cpp -l 400\n",
    "\n",
    "In [2]: run myscript.py"
   ]
  },
  {
   "cell_type": "markdown",
   "id": "hairy-recycling",
   "metadata": {
    "tags": []
   },
   "source": [
    "### Documentation"
   ]
  },
  {
   "cell_type": "markdown",
   "id": "acceptable-composition",
   "metadata": {
    "tags": []
   },
   "source": [
    "sphinx, nbsphinx"
   ]
  },
  {
   "cell_type": "markdown",
   "id": "written-wednesday",
   "metadata": {
    "tags": []
   },
   "source": [
    "### Logging\n",
    "\n",
    "There are various built-in and third-party logging modules available."
   ]
  },
  {
   "cell_type": "code",
   "execution_count": 6,
   "id": "demanding-jamaica",
   "metadata": {
    "tags": []
   },
   "outputs": [],
   "source": [
    "from loguru import logger"
   ]
  },
  {
   "cell_type": "code",
   "execution_count": 7,
   "id": "aware-enforcement",
   "metadata": {
    "tags": []
   },
   "outputs": [
    {
     "name": "stderr",
     "output_type": "stream",
     "text": [
      "2021-05-01 11:27:35.525 | DEBUG    | __main__:<module>:1 - Helpful debug message\n"
     ]
    },
    {
     "name": "stderr",
     "output_type": "stream",
     "text": [
      "2021-05-01 11:27:35.526 | ERROR    | __main__:<module>:2 - oh no\n"
     ]
    }
   ],
   "source": [
    "logger.debug('Helpful debug message')\n",
    "logger.error('oh no')"
   ]
  },
  {
   "cell_type": "markdown",
   "id": "strategic-suspect",
   "metadata": {
    "tags": []
   },
   "source": [
    "## Data Science"
   ]
  },
  {
   "cell_type": "markdown",
   "id": "continued-somewhere",
   "metadata": {
    "tags": []
   },
   "source": [
    "### SciPy\n",
    "\n",
    "[SciPy](https://www.scipy.org/) is comprised of various popular Python modules which are for scientific computations.\n",
    "\n",
    "[Numpy](https://numpy.org/) can be used for a multitude of things."
   ]
  },
  {
   "cell_type": "code",
   "execution_count": 8,
   "id": "micro-safety",
   "metadata": {
    "tags": []
   },
   "outputs": [],
   "source": [
    "import numpy as np"
   ]
  },
  {
   "cell_type": "code",
   "execution_count": 9,
   "id": "annoying-stewart",
   "metadata": {
    "tags": []
   },
   "outputs": [],
   "source": [
    "data = np.random.normal(size=(100, 3))"
   ]
  },
  {
   "cell_type": "code",
   "execution_count": 10,
   "id": "imported-latin",
   "metadata": {
    "tags": []
   },
   "outputs": [
    {
     "data": {
      "text/plain": [
       "array([[ 0.12591488, -0.4218942 , -2.12752191],\n",
       "       [ 1.27252206,  0.22487169, -0.96513306],\n",
       "       [ 0.42667086, -0.61475518, -0.11270731],\n",
       "       [ 0.52754573,  0.29209191, -0.03715688],\n",
       "       [-1.4418503 , -0.45623167, -0.56817326],\n",
       "       [ 0.53189076,  0.55974594, -0.98371494],\n",
       "       [ 1.00713651,  0.2159477 ,  0.14132138],\n",
       "       [ 0.5308628 , -1.82106195, -0.44155486],\n",
       "       [-1.04296029,  0.16444262, -0.2541122 ],\n",
       "       [ 0.66799592, -1.62949468,  1.29769595]])"
      ]
     },
     "execution_count": 10,
     "metadata": {},
     "output_type": "execute_result"
    }
   ],
   "source": [
    "data[:10, :]"
   ]
  },
  {
   "cell_type": "markdown",
   "id": "cross-registration",
   "metadata": {
    "tags": []
   },
   "source": [
    "### Dataframes\n",
    "\n",
    "Organizing your data in dataframes using [pandas](https://pandas.pydata.org/) makes nearly everything easier."
   ]
  },
  {
   "cell_type": "code",
   "execution_count": 11,
   "id": "declared-thompson",
   "metadata": {
    "tags": []
   },
   "outputs": [],
   "source": [
    "import pandas as pd"
   ]
  },
  {
   "cell_type": "code",
   "execution_count": 12,
   "id": "boring-soundtrack",
   "metadata": {
    "tags": []
   },
   "outputs": [],
   "source": [
    "df = pd.DataFrame(data, columns=['A', 'B', 'C'])\n",
    "df['group'] = np.random.choice(['G1', 'G2'], size=df.shape[0])"
   ]
  },
  {
   "cell_type": "code",
   "execution_count": 13,
   "id": "representative-hammer",
   "metadata": {
    "tags": []
   },
   "outputs": [
    {
     "data": {
      "text/html": [
       "<div>\n",
       "<style scoped>\n",
       "    .dataframe tbody tr th:only-of-type {\n",
       "        vertical-align: middle;\n",
       "    }\n",
       "\n",
       "    .dataframe tbody tr th {\n",
       "        vertical-align: top;\n",
       "    }\n",
       "\n",
       "    .dataframe thead th {\n",
       "        text-align: right;\n",
       "    }\n",
       "</style>\n",
       "<table border=\"1\" class=\"dataframe\">\n",
       "  <thead>\n",
       "    <tr style=\"text-align: right;\">\n",
       "      <th></th>\n",
       "      <th>A</th>\n",
       "      <th>B</th>\n",
       "      <th>C</th>\n",
       "      <th>group</th>\n",
       "    </tr>\n",
       "  </thead>\n",
       "  <tbody>\n",
       "    <tr>\n",
       "      <th>0</th>\n",
       "      <td>0.125915</td>\n",
       "      <td>-0.421894</td>\n",
       "      <td>-2.127522</td>\n",
       "      <td>G1</td>\n",
       "    </tr>\n",
       "    <tr>\n",
       "      <th>1</th>\n",
       "      <td>1.272522</td>\n",
       "      <td>0.224872</td>\n",
       "      <td>-0.965133</td>\n",
       "      <td>G1</td>\n",
       "    </tr>\n",
       "    <tr>\n",
       "      <th>2</th>\n",
       "      <td>0.426671</td>\n",
       "      <td>-0.614755</td>\n",
       "      <td>-0.112707</td>\n",
       "      <td>G1</td>\n",
       "    </tr>\n",
       "    <tr>\n",
       "      <th>3</th>\n",
       "      <td>0.527546</td>\n",
       "      <td>0.292092</td>\n",
       "      <td>-0.037157</td>\n",
       "      <td>G1</td>\n",
       "    </tr>\n",
       "    <tr>\n",
       "      <th>4</th>\n",
       "      <td>-1.441850</td>\n",
       "      <td>-0.456232</td>\n",
       "      <td>-0.568173</td>\n",
       "      <td>G1</td>\n",
       "    </tr>\n",
       "  </tbody>\n",
       "</table>\n",
       "</div>"
      ],
      "text/plain": [
       "          A         B         C group\n",
       "0  0.125915 -0.421894 -2.127522    G1\n",
       "1  1.272522  0.224872 -0.965133    G1\n",
       "2  0.426671 -0.614755 -0.112707    G1\n",
       "3  0.527546  0.292092 -0.037157    G1\n",
       "4 -1.441850 -0.456232 -0.568173    G1"
      ]
     },
     "execution_count": 13,
     "metadata": {},
     "output_type": "execute_result"
    }
   ],
   "source": [
    "df.head()"
   ]
  },
  {
   "cell_type": "markdown",
   "id": "quiet-dollar",
   "metadata": {
    "tags": []
   },
   "source": [
    "### Python's Tidyverse\n",
    "\n",
    "The philosophy of R's [tidyverse](https://www.tidyverse.org/) makes working with dataframes a joy.\n",
    "The following packages try to bring these concepts to the world of Python."
   ]
  },
  {
   "cell_type": "markdown",
   "id": "noted-representative",
   "metadata": {
    "tags": []
   },
   "source": [
    "#### siuba as dplyr\n",
    "\n",
    "[siuba](https://github.com/machow/siuba) implements a grammar of data manipulation inspired by [dplyr](https://github.com/tidyverse/dplyr). It starts by introducing various piping operations to pandas dataframes.\n",
    "\n",
    "[dfply](https://github.com/kieferk/dfply) and [plydata](https://github.com/has2k1/plydata) do (more or less) the same thing."
   ]
  },
  {
   "cell_type": "code",
   "execution_count": 14,
   "id": "white-trademark",
   "metadata": {
    "tags": []
   },
   "outputs": [],
   "source": [
    "from siuba import group_by, summarize, _\n",
    "from siuba.data import mtcars"
   ]
  },
  {
   "cell_type": "code",
   "execution_count": 15,
   "id": "addressed-midnight",
   "metadata": {
    "tags": []
   },
   "outputs": [
    {
     "data": {
      "text/html": [
       "<div>\n",
       "<style scoped>\n",
       "    .dataframe tbody tr th:only-of-type {\n",
       "        vertical-align: middle;\n",
       "    }\n",
       "\n",
       "    .dataframe tbody tr th {\n",
       "        vertical-align: top;\n",
       "    }\n",
       "\n",
       "    .dataframe thead th {\n",
       "        text-align: right;\n",
       "    }\n",
       "</style>\n",
       "<table border=\"1\" class=\"dataframe\">\n",
       "  <thead>\n",
       "    <tr style=\"text-align: right;\">\n",
       "      <th></th>\n",
       "      <th>cyl</th>\n",
       "      <th>hp_mean</th>\n",
       "    </tr>\n",
       "  </thead>\n",
       "  <tbody>\n",
       "    <tr>\n",
       "      <th>0</th>\n",
       "      <td>4</td>\n",
       "      <td>82.636364</td>\n",
       "    </tr>\n",
       "    <tr>\n",
       "      <th>1</th>\n",
       "      <td>6</td>\n",
       "      <td>122.285714</td>\n",
       "    </tr>\n",
       "    <tr>\n",
       "      <th>2</th>\n",
       "      <td>8</td>\n",
       "      <td>209.214286</td>\n",
       "    </tr>\n",
       "  </tbody>\n",
       "</table>\n",
       "</div>"
      ],
      "text/plain": [
       "   cyl     hp_mean\n",
       "0    4   82.636364\n",
       "1    6  122.285714\n",
       "2    8  209.214286"
      ]
     },
     "execution_count": 15,
     "metadata": {},
     "output_type": "execute_result"
    }
   ],
   "source": [
    "(mtcars >> group_by(_.cyl) >> summarize(hp_mean=_.hp.mean()))"
   ]
  },
  {
   "cell_type": "markdown",
   "id": "purple-saying",
   "metadata": {
    "tags": []
   },
   "source": [
    "#### plotnine as ggplot2\n",
    "\n",
    "[plotnine](https://github.com/has2k1/plotnine) implements a grammar of graphics and is (in ideology) based on R's [ggplot2](https://github.com/tidyverse/ggplot2)."
   ]
  },
  {
   "cell_type": "code",
   "execution_count": 16,
   "id": "offensive-control",
   "metadata": {
    "tags": []
   },
   "outputs": [],
   "source": [
    "import plotnine"
   ]
  },
  {
   "cell_type": "code",
   "execution_count": 17,
   "id": "sunrise-escape",
   "metadata": {
    "tags": []
   },
   "outputs": [
    {
     "data": {
      "text/html": [
       "<div>\n",
       "<style scoped>\n",
       "    .dataframe tbody tr th:only-of-type {\n",
       "        vertical-align: middle;\n",
       "    }\n",
       "\n",
       "    .dataframe tbody tr th {\n",
       "        vertical-align: top;\n",
       "    }\n",
       "\n",
       "    .dataframe thead th {\n",
       "        text-align: right;\n",
       "    }\n",
       "</style>\n",
       "<table border=\"1\" class=\"dataframe\">\n",
       "  <thead>\n",
       "    <tr style=\"text-align: right;\">\n",
       "      <th></th>\n",
       "      <th>group</th>\n",
       "      <th>variable</th>\n",
       "      <th>value</th>\n",
       "    </tr>\n",
       "  </thead>\n",
       "  <tbody>\n",
       "    <tr>\n",
       "      <th>0</th>\n",
       "      <td>G1</td>\n",
       "      <td>A</td>\n",
       "      <td>0.125915</td>\n",
       "    </tr>\n",
       "    <tr>\n",
       "      <th>1</th>\n",
       "      <td>G1</td>\n",
       "      <td>A</td>\n",
       "      <td>1.272522</td>\n",
       "    </tr>\n",
       "    <tr>\n",
       "      <th>2</th>\n",
       "      <td>G1</td>\n",
       "      <td>A</td>\n",
       "      <td>0.426671</td>\n",
       "    </tr>\n",
       "    <tr>\n",
       "      <th>3</th>\n",
       "      <td>G1</td>\n",
       "      <td>A</td>\n",
       "      <td>0.527546</td>\n",
       "    </tr>\n",
       "    <tr>\n",
       "      <th>4</th>\n",
       "      <td>G1</td>\n",
       "      <td>A</td>\n",
       "      <td>-1.441850</td>\n",
       "    </tr>\n",
       "  </tbody>\n",
       "</table>\n",
       "</div>"
      ],
      "text/plain": [
       "  group variable     value\n",
       "0    G1        A  0.125915\n",
       "1    G1        A  1.272522\n",
       "2    G1        A  0.426671\n",
       "3    G1        A  0.527546\n",
       "4    G1        A -1.441850"
      ]
     },
     "execution_count": 17,
     "metadata": {},
     "output_type": "execute_result"
    }
   ],
   "source": [
    "# first convert dataframe from wide to long format\n",
    "df_long = pd.melt(df, id_vars=['group'])\n",
    "df_long.head()"
   ]
  },
  {
   "cell_type": "code",
   "execution_count": 18,
   "id": "caroline-boundary",
   "metadata": {
    "tags": []
   },
   "outputs": [
    {
     "data": {
      "image/png": "[encoded data removed]",
      "text/plain": [
       "<Figure size 640x480 with 2 Axes>"
      ]
     },
     "metadata": {
      "needs_background": "light"
     },
     "output_type": "display_data"
    },
    {
     "data": {
      "text/plain": [
       "<ggplot: (334842766)>"
      ]
     },
     "execution_count": 18,
     "metadata": {},
     "output_type": "execute_result"
    }
   ],
   "source": [
    "(\n",
    "    plotnine.ggplot(df_long, plotnine.aes(x='variable', y='value', fill='group'))\n",
    "    + plotnine.geom_boxplot()\n",
    "    + plotnine.facet_wrap('~group')\n",
    "    + plotnine.theme_minimal()\n",
    ")"
   ]
  },
  {
   "cell_type": "markdown",
   "id": "silent-darwin",
   "metadata": {
    "tags": []
   },
   "source": [
    "### pandas-datareader\n",
    "\n",
    "What fun is data science without data?\n",
    "\n",
    "[pandas-datareader](https://github.com/pydata/pandas-datareader) gives you direct access to a diverse set of data sources."
   ]
  },
  {
   "cell_type": "code",
   "execution_count": 19,
   "id": "dental-portland",
   "metadata": {
    "tags": []
   },
   "outputs": [],
   "source": [
    "import pandas_datareader as pdr"
   ]
  },
  {
   "cell_type": "markdown",
   "id": "committed-regulation",
   "metadata": {
    "tags": []
   },
   "source": [
    "For example, [databases from Eurostat](https://ec.europa.eu/eurostat/data/database) are readily available:"
   ]
  },
  {
   "cell_type": "code",
   "execution_count": 20,
   "id": "subject-supervisor",
   "metadata": {
    "tags": []
   },
   "outputs": [
    {
     "data": {
      "text/html": [
       "<div>\n",
       "<style scoped>\n",
       "    .dataframe tbody tr th:only-of-type {\n",
       "        vertical-align: middle;\n",
       "    }\n",
       "\n",
       "    .dataframe tbody tr th {\n",
       "        vertical-align: top;\n",
       "    }\n",
       "\n",
       "    .dataframe thead th {\n",
       "        text-align: right;\n",
       "    }\n",
       "</style>\n",
       "<table border=\"1\" class=\"dataframe\">\n",
       "  <thead>\n",
       "    <tr style=\"text-align: right;\">\n",
       "      <th></th>\n",
       "      <th></th>\n",
       "      <th></th>\n",
       "      <th></th>\n",
       "      <th></th>\n",
       "      <th></th>\n",
       "      <th>TIME_PERIOD</th>\n",
       "      <th>2018-01-01</th>\n",
       "    </tr>\n",
       "    <tr>\n",
       "      <th>ISCED11</th>\n",
       "      <th>UNIT</th>\n",
       "      <th>SEX</th>\n",
       "      <th>INDIC_WB</th>\n",
       "      <th>AGE</th>\n",
       "      <th>GEO</th>\n",
       "      <th>FREQ</th>\n",
       "      <th></th>\n",
       "    </tr>\n",
       "  </thead>\n",
       "  <tbody>\n",
       "    <tr>\n",
       "      <th rowspan=\"5\" valign=\"top\">Less than primary, primary and lower secondary education (levels 0-2)</th>\n",
       "      <th rowspan=\"5\" valign=\"top\">Rating (0-10)</th>\n",
       "      <th rowspan=\"5\" valign=\"top\">Females</th>\n",
       "      <th rowspan=\"5\" valign=\"top\">Satisfaction with accommodation</th>\n",
       "      <th rowspan=\"5\" valign=\"top\">From 16 to 24 years</th>\n",
       "      <th>Austria</th>\n",
       "      <th>Annual</th>\n",
       "      <td>NaN</td>\n",
       "    </tr>\n",
       "    <tr>\n",
       "      <th>Belgium</th>\n",
       "      <th>Annual</th>\n",
       "      <td>NaN</td>\n",
       "    </tr>\n",
       "    <tr>\n",
       "      <th>Bulgaria</th>\n",
       "      <th>Annual</th>\n",
       "      <td>NaN</td>\n",
       "    </tr>\n",
       "    <tr>\n",
       "      <th>Switzerland</th>\n",
       "      <th>Annual</th>\n",
       "      <td>NaN</td>\n",
       "    </tr>\n",
       "    <tr>\n",
       "      <th>Cyprus</th>\n",
       "      <th>Annual</th>\n",
       "      <td>NaN</td>\n",
       "    </tr>\n",
       "  </tbody>\n",
       "</table>\n",
       "</div>"
      ],
      "text/plain": [
       "TIME_PERIOD                                                                                                                                      2018-01-01\n",
       "ISCED11                                            UNIT          SEX     INDIC_WB                        AGE                 GEO         FREQ              \n",
       "Less than primary, primary and lower secondary ... Rating (0-10) Females Satisfaction with accommodation From 16 to 24 years Austria     Annual         NaN\n",
       "                                                                                                                             Belgium     Annual         NaN\n",
       "                                                                                                                             Bulgaria    Annual         NaN\n",
       "                                                                                                                             Switzerland Annual         NaN\n",
       "                                                                                                                             Cyprus      Annual         NaN"
      ]
     },
     "execution_count": 20,
     "metadata": {},
     "output_type": "execute_result"
    }
   ],
   "source": [
    "# ilc_pw01: Average rating of satisfaction by domain, sex, age and educational attainment level\n",
    "df_eurostat = pdr.data.DataReader('ilc_pw01', 'eurostat')\n",
    "df_eurostat.T.head()"
   ]
  },
  {
   "cell_type": "code",
   "execution_count": 21,
   "id": "annual-piece",
   "metadata": {
    "tags": []
   },
   "outputs": [
    {
     "data": {
      "text/plain": [
       "Index(['Females', 'Females', 'Females', 'Females', 'Females', 'Females',\n",
       "       'Females', 'Females', 'Females', 'Females',\n",
       "       ...\n",
       "       'Total', 'Total', 'Total', 'Total', 'Total', 'Total', 'Total', 'Total',\n",
       "       'Total', 'Total'],\n",
       "      dtype='object', name='SEX', length=58050)"
      ]
     },
     "execution_count": 21,
     "metadata": {},
     "output_type": "execute_result"
    }
   ],
   "source": [
    "df_eurostat.columns.get_level_values('SEX')"
   ]
  },
  {
   "cell_type": "code",
   "execution_count": 22,
   "id": "sustained-uganda",
   "metadata": {
    "tags": []
   },
   "outputs": [
    {
     "data": {
      "text/html": [
       "<div>\n",
       "<style scoped>\n",
       "    .dataframe tbody tr th:only-of-type {\n",
       "        vertical-align: middle;\n",
       "    }\n",
       "\n",
       "    .dataframe tbody tr th {\n",
       "        vertical-align: top;\n",
       "    }\n",
       "\n",
       "    .dataframe thead th {\n",
       "        text-align: right;\n",
       "    }\n",
       "</style>\n",
       "<table border=\"1\" class=\"dataframe\">\n",
       "  <thead>\n",
       "    <tr style=\"text-align: right;\">\n",
       "      <th>TIME_PERIOD</th>\n",
       "      <th>type</th>\n",
       "      <th>age_range</th>\n",
       "      <th>satisfaction</th>\n",
       "    </tr>\n",
       "  </thead>\n",
       "  <tbody>\n",
       "    <tr>\n",
       "      <th>774</th>\n",
       "      <td>Satisfaction with financial situation</td>\n",
       "      <td>From 16 to 24 years</td>\n",
       "      <td>7.7</td>\n",
       "    </tr>\n",
       "    <tr>\n",
       "      <th>775</th>\n",
       "      <td>Satisfaction with financial situation</td>\n",
       "      <td>From 16 to 24 years</td>\n",
       "      <td>7.1</td>\n",
       "    </tr>\n",
       "    <tr>\n",
       "      <th>776</th>\n",
       "      <td>Satisfaction with financial situation</td>\n",
       "      <td>From 16 to 24 years</td>\n",
       "      <td>4.1</td>\n",
       "    </tr>\n",
       "    <tr>\n",
       "      <th>777</th>\n",
       "      <td>Satisfaction with financial situation</td>\n",
       "      <td>From 16 to 24 years</td>\n",
       "      <td>7.1</td>\n",
       "    </tr>\n",
       "    <tr>\n",
       "      <th>778</th>\n",
       "      <td>Satisfaction with financial situation</td>\n",
       "      <td>From 16 to 24 years</td>\n",
       "      <td>6.4</td>\n",
       "    </tr>\n",
       "  </tbody>\n",
       "</table>\n",
       "</div>"
      ],
      "text/plain": [
       "TIME_PERIOD                                   type            age_range  \\\n",
       "774          Satisfaction with financial situation  From 16 to 24 years   \n",
       "775          Satisfaction with financial situation  From 16 to 24 years   \n",
       "776          Satisfaction with financial situation  From 16 to 24 years   \n",
       "777          Satisfaction with financial situation  From 16 to 24 years   \n",
       "778          Satisfaction with financial situation  From 16 to 24 years   \n",
       "\n",
       "TIME_PERIOD  satisfaction  \n",
       "774                   7.7  \n",
       "775                   7.1  \n",
       "776                   4.1  \n",
       "777                   7.1  \n",
       "778                   6.4  "
      ]
     },
     "execution_count": 22,
     "metadata": {},
     "output_type": "execute_result"
    }
   ],
   "source": [
    "df_sub = (\n",
    "    df_eurostat.T.xs('All ISCED 2011 levels', level='ISCED11')\n",
    "    .xs('Total', level='SEX')\n",
    "    .xs('Rating (0-10)', level='UNIT')\n",
    "    .xs('Annual', level='FREQ')\n",
    "    .reset_index()\n",
    "    .drop('GEO', axis=1)\n",
    "    .rename(\n",
    "        columns={\n",
    "            pd.Timestamp('2018-01-01 00:00:00'): 'satisfaction',\n",
    "            'INDIC_WB': 'type',\n",
    "            'AGE': 'age_range',\n",
    "        }\n",
    "    )\n",
    ")\n",
    "df_sub = df_sub[\n",
    "    df_sub['age_range'].isin(\n",
    "        [\n",
    "            'From 16 to 24 years',\n",
    "            'From 25 to 34 years',\n",
    "            'From 35 to 49 years',\n",
    "            'From 50 to 64 years',\n",
    "            'From 65 to 74 years',\n",
    "        ]\n",
    "    )\n",
    "]\n",
    "df_sub.dropna().head()"
   ]
  },
  {
   "cell_type": "code",
   "execution_count": 23,
   "id": "pressed-format",
   "metadata": {
    "tags": []
   },
   "outputs": [
    {
     "data": {
      "image/png": "[encoded data removed]",
      "text/plain": [
       "<Figure size 640x480 with 1 Axes>"
      ]
     },
     "metadata": {
      "needs_background": "light"
     },
     "output_type": "display_data"
    },
    {
     "data": {
      "text/plain": [
       "<ggplot: (334895665)>"
      ]
     },
     "execution_count": 23,
     "metadata": {},
     "output_type": "execute_result"
    }
   ],
   "source": [
    "(\n",
    "    plotnine.ggplot(\n",
    "        df_sub.dropna(), plotnine.aes(x='type', y='satisfaction', fill='age_range')\n",
    "    )\n",
    "    + plotnine.geom_boxplot()\n",
    "    + plotnine.theme_minimal()\n",
    "    + plotnine.theme(axis_text_x=plotnine.element_text(rotation=45, hjust=1))\n",
    ")"
   ]
  },
  {
   "cell_type": "markdown",
   "id": "competitive-letter",
   "metadata": {
    "tags": []
   },
   "source": [
    "### Networkx\n",
    "\n",
    "[Networkx](https://github.com/networkx/networkx) is a wonderful library for conducting network analysis."
   ]
  },
  {
   "cell_type": "code",
   "execution_count": 24,
   "id": "sunset-religious",
   "metadata": {
    "tags": []
   },
   "outputs": [],
   "source": [
    "import networkx as nx"
   ]
  },
  {
   "cell_type": "code",
   "execution_count": 25,
   "id": "beginning-demonstration",
   "metadata": {
    "tags": []
   },
   "outputs": [
    {
     "name": "stdout",
     "output_type": "stream",
     "text": [
      "Name: \n",
      "Type: Graph\n",
      "Number of nodes: 100\n",
      "Number of edges: 200\n",
      "Average degree:   4.0000\n"
     ]
    }
   ],
   "source": [
    "graph = nx.watts_strogatz_graph(100, 4, 0.1)\n",
    "print(nx.info(graph))"
   ]
  },
  {
   "cell_type": "code",
   "execution_count": 26,
   "id": "entire-sheriff",
   "metadata": {
    "tags": []
   },
   "outputs": [
    {
     "data": {
      "text/plain": [
       "[(0, (2800.5, 870.29)), (1, (2479.1, 777.36)), (2, (2464.1, 408.03))]"
      ]
     },
     "execution_count": 26,
     "metadata": {},
     "output_type": "execute_result"
    }
   ],
   "source": [
    "pos = nx.drawing.nx_agraph.graphviz_layout(graph, prog='neato', args='-Goverlap=scale')\n",
    "list(pos.items())[:3]"
   ]
  },
  {
   "cell_type": "code",
   "execution_count": 27,
   "id": "atmospheric-cooking",
   "metadata": {
    "tags": []
   },
   "outputs": [
    {
     "data": {
      "text/plain": [
       "[(0, 0.5), (1, 0.5), (2, 0.3333333333333333)]"
      ]
     },
     "execution_count": 27,
     "metadata": {},
     "output_type": "execute_result"
    }
   ],
   "source": [
    "node_clustering = nx.clustering(graph)\n",
    "list(node_clustering.items())[:3]"
   ]
  },
  {
   "cell_type": "code",
   "execution_count": 28,
   "id": "nominated-insurance",
   "metadata": {
    "tags": []
   },
   "outputs": [
    {
     "data": {
      "image/png": "[encoded data removed]",
      "text/plain": [
       "<Figure size 432x288 with 1 Axes>"
      ]
     },
     "metadata": {},
     "output_type": "display_data"
    }
   ],
   "source": [
    "nx.draw(\n",
    "    graph,\n",
    "    pos,\n",
    "    node_size=100,\n",
    "    nodelist=list(node_clustering.keys()),\n",
    "    node_color=list(node_clustering.values()),\n",
    ")"
   ]
  },
  {
   "cell_type": "markdown",
   "id": "abroad-investing",
   "metadata": {
    "tags": []
   },
   "source": [
    "### Plotting"
   ]
  },
  {
   "cell_type": "markdown",
   "id": "outdoor-harvest",
   "metadata": {
    "tags": []
   },
   "source": [
    "#### Matplotlib\n",
    "\n",
    "[Matplotlib](https://matplotlib.org/) is the de facto standard plotting library for Python."
   ]
  },
  {
   "cell_type": "code",
   "execution_count": 29,
   "id": "parental-nitrogen",
   "metadata": {
    "tags": []
   },
   "outputs": [],
   "source": [
    "import matplotlib.pyplot as plt"
   ]
  },
  {
   "cell_type": "code",
   "execution_count": 30,
   "id": "english-denmark",
   "metadata": {
    "tags": []
   },
   "outputs": [
    {
     "data": {
      "image/png": "[encoded data removed]",
      "text/plain": [
       "<Figure size 432x288 with 1 Axes>"
      ]
     },
     "metadata": {
      "needs_background": "light"
     },
     "output_type": "display_data"
    }
   ],
   "source": [
    "fig, ax = plt.subplots()\n",
    "\n",
    "ax.scatter(data[:, 0], data[:, 1])\n",
    "\n",
    "fig.tight_layout()"
   ]
  },
  {
   "cell_type": "markdown",
   "id": "corporate-shift",
   "metadata": {
    "tags": []
   },
   "source": [
    "Axis ticks can be formatted in a multitude of different [ways](https://matplotlib.org/api/ticker_api.html#tick-formatting).\n",
    "The most versatile way is probably `FuncFormatter`."
   ]
  },
  {
   "cell_type": "code",
   "execution_count": 31,
   "id": "wrong-heath",
   "metadata": {
    "tags": []
   },
   "outputs": [],
   "source": [
    "from matplotlib.ticker import FuncFormatter"
   ]
  },
  {
   "cell_type": "code",
   "execution_count": 32,
   "id": "green-congo",
   "metadata": {
    "tags": []
   },
   "outputs": [],
   "source": [
    "@FuncFormatter\n",
    "def my_formatter(x, pos):\n",
    "    return f'{x=}, {pos=}'"
   ]
  },
  {
   "cell_type": "code",
   "execution_count": 33,
   "id": "isolated-graduation",
   "metadata": {
    "tags": []
   },
   "outputs": [
    {
     "data": {
      "image/png": "[encoded data removed]",
      "text/plain": [
       "<Figure size 720x432 with 1 Axes>"
      ]
     },
     "metadata": {
      "needs_background": "light"
     },
     "output_type": "display_data"
    }
   ],
   "source": [
    "fig, ax = plt.subplots(figsize=(10, 6))\n",
    "\n",
    "ax.scatter(data[:, 0], data[:, 1])\n",
    "\n",
    "ax.xaxis.set_major_formatter(my_formatter)\n",
    "ax.yaxis.set_major_formatter(my_formatter)"
   ]
  },
  {
   "cell_type": "markdown",
   "id": "soviet-galaxy",
   "metadata": {
    "tags": []
   },
   "source": [
    "#### Seaborn\n",
    "\n",
    "[Seaborn](https://seaborn.pydata.org/) makes working with dataframes and creating commonly used plots accessible and comfortable."
   ]
  },
  {
   "cell_type": "code",
   "execution_count": 34,
   "id": "forbidden-scott",
   "metadata": {
    "tags": []
   },
   "outputs": [],
   "source": [
    "import seaborn as sns"
   ]
  },
  {
   "cell_type": "code",
   "execution_count": 35,
   "id": "annoying-platinum",
   "metadata": {
    "tags": []
   },
   "outputs": [
    {
     "data": {
      "text/html": [
       "<div>\n",
       "<style scoped>\n",
       "    .dataframe tbody tr th:only-of-type {\n",
       "        vertical-align: middle;\n",
       "    }\n",
       "\n",
       "    .dataframe tbody tr th {\n",
       "        vertical-align: top;\n",
       "    }\n",
       "\n",
       "    .dataframe thead th {\n",
       "        text-align: right;\n",
       "    }\n",
       "</style>\n",
       "<table border=\"1\" class=\"dataframe\">\n",
       "  <thead>\n",
       "    <tr style=\"text-align: right;\">\n",
       "      <th></th>\n",
       "      <th>group</th>\n",
       "      <th>variable</th>\n",
       "      <th>value</th>\n",
       "    </tr>\n",
       "  </thead>\n",
       "  <tbody>\n",
       "    <tr>\n",
       "      <th>0</th>\n",
       "      <td>G1</td>\n",
       "      <td>A</td>\n",
       "      <td>0.125915</td>\n",
       "    </tr>\n",
       "    <tr>\n",
       "      <th>1</th>\n",
       "      <td>G1</td>\n",
       "      <td>A</td>\n",
       "      <td>1.272522</td>\n",
       "    </tr>\n",
       "    <tr>\n",
       "      <th>2</th>\n",
       "      <td>G1</td>\n",
       "      <td>A</td>\n",
       "      <td>0.426671</td>\n",
       "    </tr>\n",
       "    <tr>\n",
       "      <th>3</th>\n",
       "      <td>G1</td>\n",
       "      <td>A</td>\n",
       "      <td>0.527546</td>\n",
       "    </tr>\n",
       "    <tr>\n",
       "      <th>4</th>\n",
       "      <td>G1</td>\n",
       "      <td>A</td>\n",
       "      <td>-1.441850</td>\n",
       "    </tr>\n",
       "  </tbody>\n",
       "</table>\n",
       "</div>"
      ],
      "text/plain": [
       "  group variable     value\n",
       "0    G1        A  0.125915\n",
       "1    G1        A  1.272522\n",
       "2    G1        A  0.426671\n",
       "3    G1        A  0.527546\n",
       "4    G1        A -1.441850"
      ]
     },
     "execution_count": 35,
     "metadata": {},
     "output_type": "execute_result"
    }
   ],
   "source": [
    "df_long.head()"
   ]
  },
  {
   "cell_type": "code",
   "execution_count": 36,
   "id": "rental-miller",
   "metadata": {
    "tags": []
   },
   "outputs": [
    {
     "data": {
      "text/plain": [
       "<AxesSubplot:xlabel='variable', ylabel='value'>"
      ]
     },
     "execution_count": 36,
     "metadata": {},
     "output_type": "execute_result"
    },
    {
     "data": {
      "image/png": "[encoded data removed]",
      "text/plain": [
       "<Figure size 432x288 with 1 Axes>"
      ]
     },
     "metadata": {
      "needs_background": "light"
     },
     "output_type": "display_data"
    }
   ],
   "source": [
    "sns.boxplot(data=df_long, x='variable', y='value', hue='group')"
   ]
  },
  {
   "cell_type": "markdown",
   "id": "alpine-rehabilitation",
   "metadata": {
    "tags": []
   },
   "source": [
    "#### Statannot\n",
    "\n",
    "[Statannot](https://github.com/webermarcolivier/statannot) can be used to quickly add markers of significance to comparison plots."
   ]
  },
  {
   "cell_type": "code",
   "execution_count": 37,
   "id": "hazardous-review",
   "metadata": {
    "tags": []
   },
   "outputs": [],
   "source": [
    "import statannot"
   ]
  },
  {
   "cell_type": "code",
   "execution_count": 38,
   "id": "french-language",
   "metadata": {
    "tags": []
   },
   "outputs": [
    {
     "name": "stdout",
     "output_type": "stream",
     "text": [
      "B_G1 v.s. B_G2: Mann-Whitney-Wilcoxon test two-sided with Bonferroni correction, P_val=9.415e-01 U_stat=1.207e+03\n"
     ]
    },
    {
     "data": {
      "text/plain": [
       "(<AxesSubplot:xlabel='variable', ylabel='value'>,\n",
       " [<statannot.StatResult.StatResult at 0x1401d3ca0>])"
      ]
     },
     "execution_count": 38,
     "metadata": {},
     "output_type": "execute_result"
    },
    {
     "data": {
      "image/png": "[encoded data removed]",
      "text/plain": [
       "<Figure size 432x288 with 1 Axes>"
      ]
     },
     "metadata": {
      "needs_background": "light"
     },
     "output_type": "display_data"
    }
   ],
   "source": [
    "ax = sns.boxplot(\n",
    "    data=df_long,\n",
    "    x='variable',\n",
    "    y='value',\n",
    "    hue='group',\n",
    "    order=['A', 'B', 'C'],\n",
    "    hue_order=['G1', 'G2'],\n",
    ")\n",
    "\n",
    "statannot.add_stat_annotation(\n",
    "    ax,\n",
    "    plot='barplot',\n",
    "    data=df_long,\n",
    "    x='variable',\n",
    "    y='value',\n",
    "    hue='group',\n",
    "    order=['A', 'B', 'C'],\n",
    "    hue_order=['G1', 'G2'],\n",
    "    box_pairs=[(('B', 'G1'), ('B', 'G2'))],\n",
    "    text_format='simple',\n",
    "    test='Mann-Whitney',\n",
    ")"
   ]
  },
  {
   "cell_type": "markdown",
   "id": "valid-beauty",
   "metadata": {
    "tags": []
   },
   "source": [
    "#### Brokenaxes\n",
    "\n",
    "[Brokenaxes](https://github.com/bendichter/brokenaxes) can be used to include outliers in a plot without messing up the axis range. Note that this can be quite misleading."
   ]
  },
  {
   "cell_type": "code",
   "execution_count": 39,
   "id": "southeast-tackle",
   "metadata": {
    "tags": []
   },
   "outputs": [],
   "source": [
    "import brokenaxes"
   ]
  },
  {
   "cell_type": "code",
   "execution_count": 40,
   "id": "detected-discrimination",
   "metadata": {
    "tags": []
   },
   "outputs": [
    {
     "data": {
      "text/plain": [
       "[{'whiskers': [<matplotlib.lines.Line2D at 0x14037ba30>,\n",
       "   <matplotlib.lines.Line2D at 0x14038b3d0>,\n",
       "   <matplotlib.lines.Line2D at 0x140399850>,\n",
       "   <matplotlib.lines.Line2D at 0x140399b50>],\n",
       "  'caps': [<matplotlib.lines.Line2D at 0x14038b730>,\n",
       "   <matplotlib.lines.Line2D at 0x14038ba90>,\n",
       "   <matplotlib.lines.Line2D at 0x140399eb0>,\n",
       "   <matplotlib.lines.Line2D at 0x1403a5250>],\n",
       "  'boxes': [<matplotlib.lines.Line2D at 0x140385490>,\n",
       "   <matplotlib.lines.Line2D at 0x1403994f0>],\n",
       "  'medians': [<matplotlib.lines.Line2D at 0x14038bdf0>,\n",
       "   <matplotlib.lines.Line2D at 0x1403a55b0>],\n",
       "  'fliers': [<matplotlib.lines.Line2D at 0x140399190>,\n",
       "   <matplotlib.lines.Line2D at 0x1403a5910>],\n",
       "  'means': []},\n",
       " {'whiskers': [<matplotlib.lines.Line2D at 0x1403af040>,\n",
       "   <matplotlib.lines.Line2D at 0x1403af3a0>,\n",
       "   <matplotlib.lines.Line2D at 0x1403ba6d0>,\n",
       "   <matplotlib.lines.Line2D at 0x1403baa30>],\n",
       "  'caps': [<matplotlib.lines.Line2D at 0x1403af5b0>,\n",
       "   <matplotlib.lines.Line2D at 0x1403af910>,\n",
       "   <matplotlib.lines.Line2D at 0x1403bad90>,\n",
       "   <matplotlib.lines.Line2D at 0x1403c7100>],\n",
       "  'boxes': [<matplotlib.lines.Line2D at 0x1403a5ca0>,\n",
       "   <matplotlib.lines.Line2D at 0x1403ba370>],\n",
       "  'medians': [<matplotlib.lines.Line2D at 0x1403afc70>,\n",
       "   <matplotlib.lines.Line2D at 0x1403c7460>],\n",
       "  'fliers': [<matplotlib.lines.Line2D at 0x1403affd0>,\n",
       "   <matplotlib.lines.Line2D at 0x1403c77c0>],\n",
       "  'means': []}]"
      ]
     },
     "execution_count": 40,
     "metadata": {},
     "output_type": "execute_result"
    },
    {
     "data": {
      "image/png": "[encoded data removed]",
      "text/plain": [
       "<Figure size 432x288 with 3 Axes>"
      ]
     },
     "metadata": {
      "needs_background": "light"
     },
     "output_type": "display_data"
    }
   ],
   "source": [
    "bax = brokenaxes.brokenaxes(ylims=((0, 20), (90, 110)))\n",
    "bax.boxplot([np.random.normal(10, size=100), np.random.normal(100, size=100)])"
   ]
  },
  {
   "cell_type": "markdown",
   "id": "bronze-denmark",
   "metadata": {
    "tags": []
   },
   "source": [
    "#### Adjusttext\n",
    "\n",
    "[Adjusttext](https://github.com/Phlya/adjustText) can help for plots with many labels which potentially overlap."
   ]
  },
  {
   "cell_type": "code",
   "execution_count": 41,
   "id": "eleven-saskatchewan",
   "metadata": {
    "tags": []
   },
   "outputs": [],
   "source": [
    "from adjustText import adjust_text"
   ]
  },
  {
   "cell_type": "code",
   "execution_count": 42,
   "id": "blond-study",
   "metadata": {
    "tags": []
   },
   "outputs": [
    {
     "data": {
      "text/plain": [
       "182"
      ]
     },
     "execution_count": 42,
     "metadata": {},
     "output_type": "execute_result"
    },
    {
     "data": {
      "image/png": "[encoded data removed]",
      "text/plain": [
       "<Figure size 1152x432 with 2 Axes>"
      ]
     },
     "metadata": {
      "needs_background": "light"
     },
     "output_type": "display_data"
    }
   ],
   "source": [
    "data_sub = data[:40, :]\n",
    "fig, (ax_raw, ax_adj) = plt.subplots(nrows=1, ncols=2, figsize=(16, 6))\n",
    "\n",
    "ax_raw.scatter(data_sub[:, 0], data_sub[:, 1])\n",
    "[\n",
    "    ax_raw.annotate(f'{round(x, 1)},{round(y, 1)}', xy=(x, y))\n",
    "    for x, y in data_sub[:, [0, 1]]\n",
    "]\n",
    "\n",
    "ax_adj.scatter(data_sub[:, 0], data_sub[:, 1])\n",
    "adjust_text(\n",
    "    [\n",
    "        ax_adj.annotate(f'{round(x, 1)},{round(y, 1)}', xy=(x, y))\n",
    "        for x, y in data_sub[:, [0, 1]]\n",
    "    ],\n",
    "    arrowprops=dict(arrowstyle='->'),\n",
    ")"
   ]
  },
  {
   "cell_type": "markdown",
   "id": "tracked-toolbox",
   "metadata": {
    "tags": []
   },
   "source": [
    "#### Folium\n",
    "\n",
    "[Folium](https://github.com/python-visualization/folium) is a Python wrapper of the [Leaflet.js](https://leafletjs.com/) library to visualize dynamic maps."
   ]
  },
  {
   "cell_type": "code",
   "execution_count": 43,
   "id": "distributed-fundamentals",
   "metadata": {
    "tags": []
   },
   "outputs": [],
   "source": [
    "import folium"
   ]
  },
  {
   "cell_type": "code",
   "execution_count": 44,
   "id": "settled-relay",
   "metadata": {
    "tags": []
   },
   "outputs": [
    {
     "data": {
      "text/html": [
       "<div style=\"width:100%;\"><div style=\"position:relative;width:100%;height:0;padding-bottom:60%;\"><span style=\"color:#565656\">Make this Notebook Trusted to load map: File -> Trust Notebook</span><iframe src=\"about:blank\" style=\"position:absolute;width:100%;height:100%;left:0;top:0;border:none !important;\" data-html=%3C%21DOCTYPE%20html%3E%0A%3Chead%3E%20%20%20%20%0A%20%20%20%20%3Cmeta%20http-equiv%3D%22content-type%22%20content%3D%22text/html%3B%20charset%3DUTF-8%22%20/%3E%0A%20%20%20%20%0A%20%20%20%20%20%20%20%20%3Cscript%3E%0A%20%20%20%20%20%20%20%20%20%20%20%20L_NO_TOUCH%20%3D%20false%3B%0A%20%20%20%20%20%20%20%20%20%20%20%20L_DISABLE_3D%20%3D%20false%3B%0A%20%20%20%20%20%20%20%20%3C/script%3E%0A%20%20%20%20%0A%20%20%20%20%3Cstyle%3Ehtml%2C%20body%20%7Bwidth%3A%20100%25%3Bheight%3A%20100%25%3Bmargin%3A%200%3Bpadding%3A%200%3B%7D%3C/style%3E%0A%20%20%20%20%3Cstyle%3E%23map%20%7Bposition%3Aabsolute%3Btop%3A0%3Bbottom%3A0%3Bright%3A0%3Bleft%3A0%3B%7D%3C/style%3E%0A%20%20%20%20%3Cscript%20src%3D%22https%3A//cdn.jsdelivr.net/npm/leaflet%401.6.0/dist/leaflet.js%22%3E%3C/script%3E%0A%20%20%20%20%3Cscript%20src%3D%22https%3A//code.jquery.com/jquery-1.12.4.min.js%22%3E%3C/script%3E%0A%20%20%20%20%3Cscript%20src%3D%22https%3A//maxcdn.bootstrapcdn.com/bootstrap/3.2.0/js/bootstrap.min.js%22%3E%3C/script%3E%0A%20%20%20%20%3Cscript%20src%3D%22https%3A//cdnjs.cloudflare.com/ajax/libs/Leaflet.awesome-markers/2.0.2/leaflet.awesome-markers.js%22%3E%3C/script%3E%0A%20%20%20%20%3Clink%20rel%3D%22stylesheet%22%20href%3D%22https%3A//cdn.jsdelivr.net/npm/leaflet%401.6.0/dist/leaflet.css%22/%3E%0A%20%20%20%20%3Clink%20rel%3D%22stylesheet%22%20href%3D%22https%3A//maxcdn.bootstrapcdn.com/bootstrap/3.2.0/css/bootstrap.min.css%22/%3E%0A%20%20%20%20%3Clink%20rel%3D%22stylesheet%22%20href%3D%22https%3A//maxcdn.bootstrapcdn.com/bootstrap/3.2.0/css/bootstrap-theme.min.css%22/%3E%0A%20%20%20%20%3Clink%20rel%3D%22stylesheet%22%20href%3D%22https%3A//maxcdn.bootstrapcdn.com/font-awesome/4.6.3/css/font-awesome.min.css%22/%3E%0A%20%20%20%20%3Clink%20rel%3D%22stylesheet%22%20href%3D%22https%3A//cdnjs.cloudflare.com/ajax/libs/Leaflet.awesome-markers/2.0.2/leaflet.awesome-markers.css%22/%3E%0A%20%20%20%20%3Clink%20rel%3D%22stylesheet%22%20href%3D%22https%3A//cdn.jsdelivr.net/gh/python-visualization/folium/folium/templates/leaflet.awesome.rotate.min.css%22/%3E%0A%20%20%20%20%0A%20%20%20%20%20%20%20%20%20%20%20%20%3Cmeta%20name%3D%22viewport%22%20content%3D%22width%3Ddevice-width%2C%0A%20%20%20%20%20%20%20%20%20%20%20%20%20%20%20%20initial-scale%3D1.0%2C%20maximum-scale%3D1.0%2C%20user-scalable%3Dno%22%20/%3E%0A%20%20%20%20%20%20%20%20%20%20%20%20%3Cstyle%3E%0A%20%20%20%20%20%20%20%20%20%20%20%20%20%20%20%20%23map_b9ba0c5f5c04439ca5c5f7be9014f92c%20%7B%0A%20%20%20%20%20%20%20%20%20%20%20%20%20%20%20%20%20%20%20%20position%3A%20relative%3B%0A%20%20%20%20%20%20%20%20%20%20%20%20%20%20%20%20%20%20%20%20width%3A%20500.0px%3B%0A%20%20%20%20%20%20%20%20%20%20%20%20%20%20%20%20%20%20%20%20height%3A%20500.0px%3B%0A%20%20%20%20%20%20%20%20%20%20%20%20%20%20%20%20%20%20%20%20left%3A%200.0%25%3B%0A%20%20%20%20%20%20%20%20%20%20%20%20%20%20%20%20%20%20%20%20top%3A%200.0%25%3B%0A%20%20%20%20%20%20%20%20%20%20%20%20%20%20%20%20%7D%0A%20%20%20%20%20%20%20%20%20%20%20%20%3C/style%3E%0A%20%20%20%20%20%20%20%20%0A%3C/head%3E%0A%3Cbody%3E%20%20%20%20%0A%20%20%20%20%0A%20%20%20%20%20%20%20%20%20%20%20%20%3Cdiv%20class%3D%22folium-map%22%20id%3D%22map_b9ba0c5f5c04439ca5c5f7be9014f92c%22%20%3E%3C/div%3E%0A%20%20%20%20%20%20%20%20%0A%3C/body%3E%0A%3Cscript%3E%20%20%20%20%0A%20%20%20%20%0A%20%20%20%20%20%20%20%20%20%20%20%20var%20map_b9ba0c5f5c04439ca5c5f7be9014f92c%20%3D%20L.map%28%0A%20%20%20%20%20%20%20%20%20%20%20%20%20%20%20%20%22map_b9ba0c5f5c04439ca5c5f7be9014f92c%22%2C%0A%20%20%20%20%20%20%20%20%20%20%20%20%20%20%20%20%7B%0A%20%20%20%20%20%20%20%20%20%20%20%20%20%20%20%20%20%20%20%20center%3A%20%5B42.55173578347529%2C%2028.161306842438727%5D%2C%0A%20%20%20%20%20%20%20%20%20%20%20%20%20%20%20%20%20%20%20%20crs%3A%20L.CRS.EPSG3857%2C%0A%20%20%20%20%20%20%20%20%20%20%20%20%20%20%20%20%20%20%20%20zoom%3A%207%2C%0A%20%20%20%20%20%20%20%20%20%20%20%20%20%20%20%20%20%20%20%20zoomControl%3A%20true%2C%0A%20%20%20%20%20%20%20%20%20%20%20%20%20%20%20%20%20%20%20%20preferCanvas%3A%20false%2C%0A%20%20%20%20%20%20%20%20%20%20%20%20%20%20%20%20%7D%0A%20%20%20%20%20%20%20%20%20%20%20%20%29%3B%0A%0A%20%20%20%20%20%20%20%20%20%20%20%20%0A%0A%20%20%20%20%20%20%20%20%0A%20%20%20%20%0A%20%20%20%20%20%20%20%20%20%20%20%20var%20tile_layer_db6424522a1f45f7aebbb400a565abe5%20%3D%20L.tileLayer%28%0A%20%20%20%20%20%20%20%20%20%20%20%20%20%20%20%20%22https%3A//%7Bs%7D.tile.openstreetmap.org/%7Bz%7D/%7Bx%7D/%7By%7D.png%22%2C%0A%20%20%20%20%20%20%20%20%20%20%20%20%20%20%20%20%7B%22attribution%22%3A%20%22Data%20by%20%5Cu0026copy%3B%20%5Cu003ca%20href%3D%5C%22http%3A//openstreetmap.org%5C%22%5Cu003eOpenStreetMap%5Cu003c/a%5Cu003e%2C%20under%20%5Cu003ca%20href%3D%5C%22http%3A//www.openstreetmap.org/copyright%5C%22%5Cu003eODbL%5Cu003c/a%5Cu003e.%22%2C%20%22detectRetina%22%3A%20false%2C%20%22maxNativeZoom%22%3A%2018%2C%20%22maxZoom%22%3A%2018%2C%20%22minZoom%22%3A%200%2C%20%22noWrap%22%3A%20false%2C%20%22opacity%22%3A%201%2C%20%22subdomains%22%3A%20%22abc%22%2C%20%22tms%22%3A%20false%7D%0A%20%20%20%20%20%20%20%20%20%20%20%20%29.addTo%28map_b9ba0c5f5c04439ca5c5f7be9014f92c%29%3B%0A%20%20%20%20%20%20%20%20%0A%3C/script%3E onload=\"this.contentDocument.open();this.contentDocument.write(    decodeURIComponent(this.getAttribute('data-html')));this.contentDocument.close();\" allowfullscreen webkitallowfullscreen mozallowfullscreen></iframe></div></div>"
      ],
      "text/plain": [
       "<folium.folium.Map at 0x1408e67c0>"
      ]
     },
     "execution_count": 44,
     "metadata": {},
     "output_type": "execute_result"
    }
   ],
   "source": [
    "folium.Map(\n",
    "    location=[np.random.uniform(40, 70), np.random.uniform(10, 30)],\n",
    "    zoom_start=7,\n",
    "    width=500,\n",
    "    height=500,\n",
    ")"
   ]
  },
  {
   "cell_type": "markdown",
   "id": "romance-playing",
   "metadata": {
    "tags": []
   },
   "source": [
    "#### Ahlive\n",
    "\n",
    "Creating animated visualizations becomes easy and fun with [ahlive](https://ahlive.readthedocs.io/en/latest/)."
   ]
  },
  {
   "cell_type": "code",
   "execution_count": 45,
   "id": "cloudy-dryer",
   "metadata": {
    "tags": []
   },
   "outputs": [],
   "source": [
    "import ahlive as ah"
   ]
  },
  {
   "cell_type": "code",
   "execution_count": 46,
   "id": "intended-checkout",
   "metadata": {
    "tags": []
   },
   "outputs": [
    {
     "name": "stdout",
     "output_type": "stream",
     "text": [
      "\r",
      "[######                                  ] | 15% Completed |  1.0s"
     ]
    },
    {
     "name": "stdout",
     "output_type": "stream",
     "text": [
      "\r",
      "[######                                  ] | 15% Completed |  1.2s"
     ]
    },
    {
     "name": "stdout",
     "output_type": "stream",
     "text": [
      "\r",
      "[#######                                 ] | 17% Completed |  1.3s"
     ]
    },
    {
     "name": "stdout",
     "output_type": "stream",
     "text": [
      "\r",
      "[#######                                 ] | 17% Completed |  1.4s"
     ]
    },
    {
     "name": "stdout",
     "output_type": "stream",
     "text": [
      "\r",
      "[########                                ] | 20% Completed |  1.5s"
     ]
    },
    {
     "name": "stdout",
     "output_type": "stream",
     "text": [
      "\r",
      "[#########                               ] | 22% Completed |  1.6s"
     ]
    },
    {
     "name": "stdout",
     "output_type": "stream",
     "text": [
      "\r",
      "[#########                               ] | 22% Completed |  1.7s"
     ]
    },
    {
     "name": "stdout",
     "output_type": "stream",
     "text": [
      "\r",
      "[##########                              ] | 25% Completed |  1.8s"
     ]
    },
    {
     "name": "stdout",
     "output_type": "stream",
     "text": [
      "\r",
      "[###########                             ] | 27% Completed |  1.9s"
     ]
    },
    {
     "name": "stdout",
     "output_type": "stream",
     "text": [
      "\r",
      "[###########                             ] | 27% Completed |  2.0s"
     ]
    },
    {
     "name": "stdout",
     "output_type": "stream",
     "text": [
      "\r",
      "[############                            ] | 30% Completed |  2.1s"
     ]
    },
    {
     "name": "stdout",
     "output_type": "stream",
     "text": [
      "\r",
      "[#############                           ] | 32% Completed |  2.2s"
     ]
    },
    {
     "name": "stdout",
     "output_type": "stream",
     "text": [
      "\r",
      "[#############                           ] | 32% Completed |  2.3s"
     ]
    },
    {
     "name": "stdout",
     "output_type": "stream",
     "text": [
      "\r",
      "[##############                          ] | 35% Completed |  2.4s"
     ]
    },
    {
     "name": "stdout",
     "output_type": "stream",
     "text": [
      "\r",
      "[###############                         ] | 37% Completed |  2.5s"
     ]
    },
    {
     "name": "stdout",
     "output_type": "stream",
     "text": [
      "\r",
      "[###############                         ] | 37% Completed |  2.7s"
     ]
    },
    {
     "name": "stdout",
     "output_type": "stream",
     "text": [
      "\r",
      "[################                        ] | 40% Completed |  2.8s"
     ]
    },
    {
     "name": "stdout",
     "output_type": "stream",
     "text": [
      "\r",
      "[#################                       ] | 42% Completed |  2.9s"
     ]
    },
    {
     "name": "stdout",
     "output_type": "stream",
     "text": [
      "\r",
      "[##################                      ] | 45% Completed |  3.0s"
     ]
    },
    {
     "name": "stdout",
     "output_type": "stream",
     "text": [
      "\r",
      "[##################                      ] | 45% Completed |  3.1s"
     ]
    },
    {
     "name": "stdout",
     "output_type": "stream",
     "text": [
      "\r",
      "[###################                     ] | 47% Completed |  3.2s"
     ]
    },
    {
     "name": "stdout",
     "output_type": "stream",
     "text": [
      "\r",
      "[####################                    ] | 50% Completed |  3.3s"
     ]
    },
    {
     "name": "stdout",
     "output_type": "stream",
     "text": [
      "\r",
      "[####################                    ] | 50% Completed |  3.4s"
     ]
    },
    {
     "name": "stdout",
     "output_type": "stream",
     "text": [
      "\r",
      "[#####################                   ] | 52% Completed |  3.5s"
     ]
    },
    {
     "name": "stdout",
     "output_type": "stream",
     "text": [
      "\r",
      "[#####################                   ] | 52% Completed |  3.6s"
     ]
    },
    {
     "name": "stdout",
     "output_type": "stream",
     "text": [
      "\r",
      "[######################                  ] | 55% Completed |  3.7s"
     ]
    },
    {
     "name": "stdout",
     "output_type": "stream",
     "text": [
      "\r",
      "[#######################                 ] | 57% Completed |  3.9s"
     ]
    },
    {
     "name": "stdout",
     "output_type": "stream",
     "text": [
      "\r",
      "[#######################                 ] | 57% Completed |  4.0s"
     ]
    },
    {
     "name": "stdout",
     "output_type": "stream",
     "text": [
      "\r",
      "[########################                ] | 60% Completed |  4.1s"
     ]
    },
    {
     "name": "stdout",
     "output_type": "stream",
     "text": [
      "\r",
      "[#########################               ] | 62% Completed |  4.2s"
     ]
    },
    {
     "name": "stdout",
     "output_type": "stream",
     "text": [
      "\r",
      "[#########################               ] | 62% Completed |  4.3s"
     ]
    },
    {
     "name": "stdout",
     "output_type": "stream",
     "text": [
      "\r",
      "[##########################              ] | 65% Completed |  4.4s"
     ]
    },
    {
     "name": "stdout",
     "output_type": "stream",
     "text": [
      "\r",
      "[###########################             ] | 67% Completed |  4.5s"
     ]
    },
    {
     "name": "stdout",
     "output_type": "stream",
     "text": [
      "\r",
      "[###########################             ] | 67% Completed |  4.6s"
     ]
    },
    {
     "name": "stdout",
     "output_type": "stream",
     "text": [
      "\r",
      "[############################            ] | 70% Completed |  4.7s"
     ]
    },
    {
     "name": "stdout",
     "output_type": "stream",
     "text": [
      "\r",
      "[#############################           ] | 72% Completed |  4.8s"
     ]
    },
    {
     "name": "stdout",
     "output_type": "stream",
     "text": [
      "\r",
      "[##############################          ] | 75% Completed |  5.0s"
     ]
    },
    {
     "name": "stdout",
     "output_type": "stream",
     "text": [
      "\r",
      "[###############################         ] | 77% Completed |  5.1s"
     ]
    },
    {
     "name": "stdout",
     "output_type": "stream",
     "text": [
      "\r",
      "[###############################         ] | 77% Completed |  5.2s"
     ]
    },
    {
     "name": "stdout",
     "output_type": "stream",
     "text": [
      "\r",
      "[################################        ] | 80% Completed |  5.3s"
     ]
    },
    {
     "name": "stdout",
     "output_type": "stream",
     "text": [
      "\r",
      "[################################        ] | 80% Completed |  5.4s"
     ]
    },
    {
     "name": "stdout",
     "output_type": "stream",
     "text": [
      "\r",
      "[#################################       ] | 82% Completed |  5.5s"
     ]
    },
    {
     "name": "stdout",
     "output_type": "stream",
     "text": [
      "\r",
      "[##################################      ] | 85% Completed |  5.6s"
     ]
    },
    {
     "name": "stdout",
     "output_type": "stream",
     "text": [
      "\r",
      "[###################################     ] | 87% Completed |  5.7s"
     ]
    },
    {
     "name": "stdout",
     "output_type": "stream",
     "text": [
      "\r",
      "[###################################     ] | 87% Completed |  5.8s"
     ]
    },
    {
     "name": "stdout",
     "output_type": "stream",
     "text": [
      "\r",
      "[####################################    ] | 90% Completed |  6.0s"
     ]
    },
    {
     "name": "stdout",
     "output_type": "stream",
     "text": [
      "\r",
      "[#####################################   ] | 92% Completed |  6.1s"
     ]
    },
    {
     "name": "stdout",
     "output_type": "stream",
     "text": [
      "\r",
      "[######################################  ] | 95% Completed |  6.2s"
     ]
    },
    {
     "name": "stdout",
     "output_type": "stream",
     "text": [
      "\r",
      "[######################################  ] | 95% Completed |  6.3s"
     ]
    },
    {
     "name": "stdout",
     "output_type": "stream",
     "text": [
      "\r",
      "[####################################### ] | 97% Completed |  6.4s"
     ]
    },
    {
     "name": "stdout",
     "output_type": "stream",
     "text": [
      "\r",
      "[########################################] | 100% Completed |  6.5s"
     ]
    },
    {
     "name": "stdout",
     "output_type": "stream",
     "text": [
      "\n"
     ]
    },
    {
     "data": {
      "text/html": [
       "<img src=\"data:image/gif;base64,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\" />"
      ],
      "text/plain": [
       "<IPython.core.display.HTML object>"
      ]
     },
     "execution_count": 46,
     "metadata": {},
     "output_type": "execute_result"
    }
   ],
   "source": [
    "adf = ah.DataFrame(pd.DataFrame({'A': [1, 2, 3], 'B': [1, 2, 3]}), xs='A', ys='B')\n",
    "\n",
    "adf.render()"
   ]
  },
  {
   "cell_type": "markdown",
   "id": "political-surveillance",
   "metadata": {
    "tags": []
   },
   "source": [
    "#### Color palettes\n",
    "\n",
    "Choosing the right color palette for your visualization can be tricky.\n",
    "[palettable](https://github.com/jiffyclub/palettable) provides many useful ones."
   ]
  },
  {
   "cell_type": "code",
   "execution_count": 47,
   "id": "presidential-appraisal",
   "metadata": {
    "tags": []
   },
   "outputs": [],
   "source": [
    "import palettable"
   ]
  },
  {
   "cell_type": "markdown",
   "id": "approved-pledge",
   "metadata": {
    "tags": []
   },
   "source": [
    "You can easily display a multitude of colorscales..."
   ]
  },
  {
   "cell_type": "code",
   "execution_count": 48,
   "id": "abstract-sleep",
   "metadata": {
    "tags": []
   },
   "outputs": [
    {
     "data": {
      "image/png": "[encoded data removed]",
      "text/plain": [
       "<IPython.core.display.Image object>"
      ]
     },
     "metadata": {},
     "output_type": "display_data"
    }
   ],
   "source": [
    "palettable.tableau.Tableau_10.show_discrete_image()"
   ]
  },
  {
   "cell_type": "markdown",
   "id": "unlimited-american",
   "metadata": {
    "tags": []
   },
   "source": [
    "...and access them in a variety of ways."
   ]
  },
  {
   "cell_type": "code",
   "execution_count": 49,
   "id": "parallel-meeting",
   "metadata": {
    "tags": []
   },
   "outputs": [
    {
     "name": "stdout",
     "output_type": "stream",
     "text": [
      "Tableau_10\n",
      "qualitative\n",
      "['#1F77B4', '#FF7F0E', '#2CA02C', '#D62728', '#9467BD', '#8C564B', '#E377C2', '#7F7F7F', '#BCBD22', '#17BECF']\n",
      "<matplotlib.colors.LinearSegmentedColormap object at 0x1426fcac0>\n"
     ]
    }
   ],
   "source": [
    "print(palettable.tableau.Tableau_10.name)\n",
    "print(palettable.tableau.Tableau_10.type)\n",
    "print(palettable.tableau.Tableau_10.hex_colors)\n",
    "print(palettable.tableau.Tableau_10.mpl_colormap)"
   ]
  },
  {
   "cell_type": "markdown",
   "id": "cellular-election",
   "metadata": {
    "tags": []
   },
   "source": [
    "### High performance\n",
    "\n",
    "When dealing with large amounts of data or many computations, it can make sense to optimize hotspots in C++ or use specialized libraries."
   ]
  },
  {
   "cell_type": "markdown",
   "id": "accepting-ethernet",
   "metadata": {
    "tags": []
   },
   "source": [
    "#### Dask\n",
    "\n",
    "[Dask](https://github.com/dask/dask) provides a Panda's like interface to high-performance dataframes which support out-of-memory processing, cluster distribution, and more.\n",
    "It is particularly useful when the dataframe does not fit in RAM anymore. Common operations operate on chunks of the dataframe and are only executed when explicitly requested."
   ]
  },
  {
   "cell_type": "code",
   "execution_count": 50,
   "id": "collected-router",
   "metadata": {
    "tags": []
   },
   "outputs": [],
   "source": [
    "import dask.dataframe as dd"
   ]
  },
  {
   "cell_type": "code",
   "execution_count": 51,
   "id": "precious-sponsorship",
   "metadata": {
    "tags": []
   },
   "outputs": [],
   "source": [
    "df = pd.DataFrame(np.random.normal(size=(1_000_000, 2)), columns=['A', 'B'])"
   ]
  },
  {
   "cell_type": "code",
   "execution_count": 52,
   "id": "royal-budget",
   "metadata": {
    "tags": []
   },
   "outputs": [
    {
     "data": {
      "text/html": [
       "<div>\n",
       "<style scoped>\n",
       "    .dataframe tbody tr th:only-of-type {\n",
       "        vertical-align: middle;\n",
       "    }\n",
       "\n",
       "    .dataframe tbody tr th {\n",
       "        vertical-align: top;\n",
       "    }\n",
       "\n",
       "    .dataframe thead th {\n",
       "        text-align: right;\n",
       "    }\n",
       "</style>\n",
       "<table border=\"1\" class=\"dataframe\">\n",
       "  <thead>\n",
       "    <tr style=\"text-align: right;\">\n",
       "      <th></th>\n",
       "      <th>A</th>\n",
       "      <th>B</th>\n",
       "    </tr>\n",
       "  </thead>\n",
       "  <tbody>\n",
       "    <tr>\n",
       "      <th>0</th>\n",
       "      <td>1.209945</td>\n",
       "      <td>-0.829657</td>\n",
       "    </tr>\n",
       "    <tr>\n",
       "      <th>1</th>\n",
       "      <td>-1.041410</td>\n",
       "      <td>0.138946</td>\n",
       "    </tr>\n",
       "    <tr>\n",
       "      <th>2</th>\n",
       "      <td>0.497872</td>\n",
       "      <td>0.628439</td>\n",
       "    </tr>\n",
       "    <tr>\n",
       "      <th>3</th>\n",
       "      <td>-0.418077</td>\n",
       "      <td>0.039312</td>\n",
       "    </tr>\n",
       "    <tr>\n",
       "      <th>4</th>\n",
       "      <td>-0.353732</td>\n",
       "      <td>0.500529</td>\n",
       "    </tr>\n",
       "  </tbody>\n",
       "</table>\n",
       "</div>"
      ],
      "text/plain": [
       "          A         B\n",
       "0  1.209945 -0.829657\n",
       "1 -1.041410  0.138946\n",
       "2  0.497872  0.628439\n",
       "3 -0.418077  0.039312\n",
       "4 -0.353732  0.500529"
      ]
     },
     "execution_count": 52,
     "metadata": {},
     "output_type": "execute_result"
    }
   ],
   "source": [
    "ddf = dd.from_pandas(df, npartitions=4)\n",
    "ddf.head()"
   ]
  },
  {
   "cell_type": "code",
   "execution_count": 53,
   "id": "stretch-nitrogen",
   "metadata": {
    "tags": []
   },
   "outputs": [
    {
     "data": {
      "text/plain": [
       "Dask Series Structure:\n",
       "npartitions=4\n",
       "0         float64\n",
       "250000        ...\n",
       "500000        ...\n",
       "750000        ...\n",
       "999999        ...\n",
       "dtype: float64\n",
       "Dask Name: add, 16 tasks"
      ]
     },
     "execution_count": 53,
     "metadata": {},
     "output_type": "execute_result"
    }
   ],
   "source": [
    "ddf['A'] + ddf['B']"
   ]
  },
  {
   "cell_type": "code",
   "execution_count": 54,
   "id": "brilliant-specialist",
   "metadata": {
    "tags": []
   },
   "outputs": [
    {
     "data": {
      "text/plain": [
       "0         0.380288\n",
       "1        -0.902464\n",
       "2         1.126310\n",
       "3        -0.378765\n",
       "4         0.146798\n",
       "            ...   \n",
       "999995   -1.198871\n",
       "999996    0.195255\n",
       "999997    1.707589\n",
       "999998   -1.505217\n",
       "999999   -1.828147\n",
       "Length: 1000000, dtype: float64"
      ]
     },
     "execution_count": 54,
     "metadata": {},
     "output_type": "execute_result"
    }
   ],
   "source": [
    "(ddf['A'] + ddf['B']).compute()"
   ]
  },
  {
   "cell_type": "markdown",
   "id": "reserved-sharp",
   "metadata": {
    "tags": []
   },
   "source": [
    "#### Vaex\n",
    "\n",
    "[Vaex](https://github.com/vaexio/vaex) fills a similar niche as dask and makes working with out-of-core dataframe easy.\n",
    "It has a slightly more intuitive interface and offers many cool visualizations right out of the box."
   ]
  },
  {
   "cell_type": "code",
   "execution_count": 55,
   "id": "indie-second",
   "metadata": {
    "tags": []
   },
   "outputs": [],
   "source": [
    "import vaex as vx"
   ]
  },
  {
   "cell_type": "code",
   "execution_count": 56,
   "id": "effective-shelter",
   "metadata": {
    "tags": []
   },
   "outputs": [
    {
     "data": {
      "text/html": [
       "<table>\n",
       "<thead>\n",
       "<tr><th>#                            </th><th style=\"text-align: right;\">        A</th><th style=\"text-align: right;\">         B</th></tr>\n",
       "</thead>\n",
       "<tbody>\n",
       "<tr><td><i style='opacity: 0.6'>0</i></td><td style=\"text-align: right;\"> 1.20994 </td><td style=\"text-align: right;\">-0.829657 </td></tr>\n",
       "<tr><td><i style='opacity: 0.6'>1</i></td><td style=\"text-align: right;\">-1.04141 </td><td style=\"text-align: right;\"> 0.138946 </td></tr>\n",
       "<tr><td><i style='opacity: 0.6'>2</i></td><td style=\"text-align: right;\"> 0.497872</td><td style=\"text-align: right;\"> 0.628439 </td></tr>\n",
       "<tr><td><i style='opacity: 0.6'>3</i></td><td style=\"text-align: right;\">-0.418077</td><td style=\"text-align: right;\"> 0.0393116</td></tr>\n",
       "<tr><td><i style='opacity: 0.6'>4</i></td><td style=\"text-align: right;\">-0.353732</td><td style=\"text-align: right;\"> 0.500529 </td></tr>\n",
       "<tr><td><i style='opacity: 0.6'>5</i></td><td style=\"text-align: right;\"> 0.218921</td><td style=\"text-align: right;\">-0.140769 </td></tr>\n",
       "<tr><td><i style='opacity: 0.6'>6</i></td><td style=\"text-align: right;\"> 1.44677 </td><td style=\"text-align: right;\"> 0.177711 </td></tr>\n",
       "<tr><td><i style='opacity: 0.6'>7</i></td><td style=\"text-align: right;\">-0.929196</td><td style=\"text-align: right;\">-0.306118 </td></tr>\n",
       "<tr><td><i style='opacity: 0.6'>8</i></td><td style=\"text-align: right;\"> 1.23181 </td><td style=\"text-align: right;\"> 1.37377  </td></tr>\n",
       "<tr><td><i style='opacity: 0.6'>9</i></td><td style=\"text-align: right;\">-0.354355</td><td style=\"text-align: right;\">-1.17795  </td></tr>\n",
       "</tbody>\n",
       "</table>"
      ],
      "text/plain": [
       "  #          A           B\n",
       "  0   1.20994   -0.829657\n",
       "  1  -1.04141    0.138946\n",
       "  2   0.497872   0.628439\n",
       "  3  -0.418077   0.0393116\n",
       "  4  -0.353732   0.500529\n",
       "  5   0.218921  -0.140769\n",
       "  6   1.44677    0.177711\n",
       "  7  -0.929196  -0.306118\n",
       "  8   1.23181    1.37377\n",
       "  9  -0.354355  -1.17795"
      ]
     },
     "execution_count": 56,
     "metadata": {},
     "output_type": "execute_result"
    }
   ],
   "source": [
    "vdf = vx.from_pandas(df)\n",
    "vdf.head()"
   ]
  },
  {
   "cell_type": "code",
   "execution_count": 57,
   "id": "reduced-cheese",
   "metadata": {
    "tags": []
   },
   "outputs": [
    {
     "data": {
      "text/plain": [
       "Expression = (A + B)\n",
       "Length: 1,000,000 dtype: float64 (expression)\n",
       "---------------------------------------------\n",
       "     0   0.380288\n",
       "     1  -0.902464\n",
       "     2    1.12631\n",
       "     3  -0.378765\n",
       "     4   0.146798\n",
       "       ...       \n",
       "999995   -1.19887\n",
       "999996   0.195255\n",
       "999997    1.70759\n",
       "999998   -1.50522\n",
       "999999   -1.82815"
      ]
     },
     "execution_count": 57,
     "metadata": {},
     "output_type": "execute_result"
    }
   ],
   "source": [
    "vdf['A'] + vdf['B']"
   ]
  },
  {
   "cell_type": "code",
   "execution_count": 58,
   "id": "coupled-founder",
   "metadata": {
    "tags": []
   },
   "outputs": [
    {
     "data": {
      "text/plain": [
       "<matplotlib.image.AxesImage at 0x141ea3310>"
      ]
     },
     "execution_count": 58,
     "metadata": {},
     "output_type": "execute_result"
    },
    {
     "data": {
      "image/png": "[encoded data removed]",
      "text/plain": [
       "<Figure size 432x288 with 2 Axes>"
      ]
     },
     "metadata": {
      "needs_background": "light"
     },
     "output_type": "display_data"
    }
   ],
   "source": [
    "vdf.plot(vdf['A'], vdf['B'])"
   ]
  },
  {
   "cell_type": "markdown",
   "id": "hairy-realtor",
   "metadata": {
    "tags": []
   },
   "source": [
    "#### Joblib\n",
    "\n",
    "[Joblib](https://github.com/joblib/joblib) makes executing functions in parallel very easy and removes boilerplate code."
   ]
  },
  {
   "cell_type": "code",
   "execution_count": 59,
   "id": "breathing-landscape",
   "metadata": {
    "tags": []
   },
   "outputs": [],
   "source": [
    "import time\n",
    "import random\n",
    "\n",
    "import joblib"
   ]
  },
  {
   "cell_type": "code",
   "execution_count": 60,
   "id": "challenging-wellington",
   "metadata": {
    "tags": []
   },
   "outputs": [],
   "source": [
    "def heavy_function(i):\n",
    "    print(f'{i=}')\n",
    "    time.sleep(random.random())\n",
    "    return i**i"
   ]
  },
  {
   "cell_type": "code",
   "execution_count": 61,
   "id": "devoted-asbestos",
   "metadata": {
    "tags": []
   },
   "outputs": [
    {
     "data": {
      "text/plain": [
       "[1, 1, 4, 27, 256, 3125, 46656, 823543, 16777216, 387420489]"
      ]
     },
     "execution_count": 61,
     "metadata": {},
     "output_type": "execute_result"
    }
   ],
   "source": [
    "joblib.Parallel(n_jobs=2)([joblib.delayed(heavy_function)(i) for i in range(10)])"
   ]
  },
  {
   "cell_type": "markdown",
   "id": "continent-adolescent",
   "metadata": {
    "tags": []
   },
   "source": [
    "#### Swifter\n",
    "\n",
    "Choosing the correct way of parallelizing your computations can be non-trivial. [Swifter](https://github.com/jmcarpenter2/swifter) tries to automatically select the most suitable one."
   ]
  },
  {
   "cell_type": "code",
   "execution_count": 62,
   "id": "fleet-monaco",
   "metadata": {
    "tags": []
   },
   "outputs": [],
   "source": [
    "import swifter"
   ]
  },
  {
   "cell_type": "code",
   "execution_count": 63,
   "id": "southwest-peninsula",
   "metadata": {
    "tags": []
   },
   "outputs": [
    {
     "data": {
      "text/html": [
       "<div>\n",
       "<style scoped>\n",
       "    .dataframe tbody tr th:only-of-type {\n",
       "        vertical-align: middle;\n",
       "    }\n",
       "\n",
       "    .dataframe tbody tr th {\n",
       "        vertical-align: top;\n",
       "    }\n",
       "\n",
       "    .dataframe thead th {\n",
       "        text-align: right;\n",
       "    }\n",
       "</style>\n",
       "<table border=\"1\" class=\"dataframe\">\n",
       "  <thead>\n",
       "    <tr style=\"text-align: right;\">\n",
       "      <th></th>\n",
       "      <th>A</th>\n",
       "    </tr>\n",
       "  </thead>\n",
       "  <tbody>\n",
       "    <tr>\n",
       "      <th>0</th>\n",
       "      <td>29</td>\n",
       "    </tr>\n",
       "    <tr>\n",
       "      <th>1</th>\n",
       "      <td>84</td>\n",
       "    </tr>\n",
       "    <tr>\n",
       "      <th>2</th>\n",
       "      <td>61</td>\n",
       "    </tr>\n",
       "    <tr>\n",
       "      <th>3</th>\n",
       "      <td>63</td>\n",
       "    </tr>\n",
       "    <tr>\n",
       "      <th>4</th>\n",
       "      <td>39</td>\n",
       "    </tr>\n",
       "  </tbody>\n",
       "</table>\n",
       "</div>"
      ],
      "text/plain": [
       "    A\n",
       "0  29\n",
       "1  84\n",
       "2  61\n",
       "3  63\n",
       "4  39"
      ]
     },
     "execution_count": 63,
     "metadata": {},
     "output_type": "execute_result"
    }
   ],
   "source": [
    "df_big = pd.DataFrame({'A': np.random.randint(0, 100, size=1_000_000)})\n",
    "df_big.head()"
   ]
  },
  {
   "cell_type": "code",
   "execution_count": 64,
   "id": "serial-brown",
   "metadata": {
    "tags": []
   },
   "outputs": [
    {
     "name": "stdout",
     "output_type": "stream",
     "text": [
      "526 ms ± 4.48 ms per loop (mean ± std. dev. of 7 runs, 1 loop each)\n"
     ]
    }
   ],
   "source": [
    "%%timeit\n",
    "df_big['A'].apply(lambda x: x**2)"
   ]
  },
  {
   "cell_type": "code",
   "execution_count": 65,
   "id": "adequate-reproduction",
   "metadata": {
    "tags": []
   },
   "outputs": [
    {
     "name": "stdout",
     "output_type": "stream",
     "text": [
      "2.84 ms ± 139 µs per loop (mean ± std. dev. of 7 runs, 100 loops each)\n"
     ]
    }
   ],
   "source": [
    "%%timeit\n",
    "df_big['A'].swifter.apply(lambda x: x**2)"
   ]
  },
  {
   "cell_type": "markdown",
   "id": "domestic-mailing",
   "metadata": {
    "tags": []
   },
   "source": [
    "### Bioinformatics"
   ]
  },
  {
   "cell_type": "markdown",
   "id": "plastic-accounting",
   "metadata": {
    "tags": []
   },
   "source": [
    "#### PyRanges\n",
    "\n",
    "[PyRanges](https://github.com/biocore-ntnu/pyranges) makes working with genomic ranges easy as pie."
   ]
  },
  {
   "cell_type": "code",
   "execution_count": 66,
   "id": "weighted-measurement",
   "metadata": {
    "tags": []
   },
   "outputs": [],
   "source": [
    "import pyranges as pr"
   ]
  },
  {
   "cell_type": "code",
   "execution_count": 67,
   "id": "creative-teddy",
   "metadata": {
    "tags": []
   },
   "outputs": [
    {
     "data": {
      "text/plain": [
       "+--------------+-----------+-----------+-------+\n",
       "| Chromosome   | Start     | End       | +3    |\n",
       "| (category)   | (int32)   | (int32)   | ...   |\n",
       "|--------------+-----------+-----------+-------|\n",
       "| chrX         | 135721701 | 135721963 | ...   |\n",
       "| chrX         | 135574120 | 135574598 | ...   |\n",
       "| chrX         | 47868945  | 47869126  | ...   |\n",
       "| chrX         | 77294333  | 77294480  | ...   |\n",
       "| ...          | ...       | ...       | ...   |\n",
       "| chrY         | 15409586  | 15409728  | ...   |\n",
       "| chrY         | 15478146  | 15478273  | ...   |\n",
       "| chrY         | 15360258  | 15361762  | ...   |\n",
       "| chrY         | 15467254  | 15467278  | ...   |\n",
       "+--------------+-----------+-----------+-------+\n",
       "Stranded PyRanges object has 1,000 rows and 6 columns from 2 chromosomes.\n",
       "For printing, the PyRanges was sorted on Chromosome and Strand.\n",
       "3 hidden columns: Name, Score, Strand"
      ]
     },
     "execution_count": 67,
     "metadata": {},
     "output_type": "execute_result"
    }
   ],
   "source": [
    "df_exons = pr.data.exons()\n",
    "df_exons"
   ]
  },
  {
   "cell_type": "code",
   "execution_count": 68,
   "id": "overhead-petersburg",
   "metadata": {
    "tags": []
   },
   "outputs": [
    {
     "data": {
      "text/plain": [
       "+--------------+-----------+-----------+\n",
       "| Chromosome   |     Start |       End |\n",
       "| (category)   |   (int32) |   (int32) |\n",
       "|--------------+-----------+-----------|\n",
       "| chrX         |   1400000 |   1500000 |\n",
       "+--------------+-----------+-----------+\n",
       "Unstranded PyRanges object has 1 rows and 3 columns from 1 chromosomes.\n",
       "For printing, the PyRanges was sorted on Chromosome."
      ]
     },
     "execution_count": 68,
     "metadata": {},
     "output_type": "execute_result"
    }
   ],
   "source": [
    "df_locus = pr.PyRanges(\n",
    "    pd.DataFrame({'Chromosome': ['chrX'], 'Start': [1_400_000], 'End': [1_500_000]})\n",
    ")\n",
    "df_locus"
   ]
  },
  {
   "cell_type": "code",
   "execution_count": 69,
   "id": "musical-mauritius",
   "metadata": {
    "tags": []
   },
   "outputs": [
    {
     "data": {
      "text/html": [
       "<div>\n",
       "<style scoped>\n",
       "    .dataframe tbody tr th:only-of-type {\n",
       "        vertical-align: middle;\n",
       "    }\n",
       "\n",
       "    .dataframe tbody tr th {\n",
       "        vertical-align: top;\n",
       "    }\n",
       "\n",
       "    .dataframe thead th {\n",
       "        text-align: right;\n",
       "    }\n",
       "</style>\n",
       "<table border=\"1\" class=\"dataframe\">\n",
       "  <thead>\n",
       "    <tr style=\"text-align: right;\">\n",
       "      <th></th>\n",
       "      <th>Chromosome</th>\n",
       "      <th>Start</th>\n",
       "      <th>End</th>\n",
       "      <th>Name</th>\n",
       "      <th>Score</th>\n",
       "      <th>Strand</th>\n",
       "    </tr>\n",
       "  </thead>\n",
       "  <tbody>\n",
       "    <tr>\n",
       "      <th>0</th>\n",
       "      <td>chrX</td>\n",
       "      <td>1475113</td>\n",
       "      <td>1475229</td>\n",
       "      <td>NM_001267713_exon_4_0_chrX_1475114_f</td>\n",
       "      <td>0</td>\n",
       "      <td>+</td>\n",
       "    </tr>\n",
       "    <tr>\n",
       "      <th>1</th>\n",
       "      <td>chrX</td>\n",
       "      <td>1419383</td>\n",
       "      <td>1419519</td>\n",
       "      <td>NM_001161531_exon_9_0_chrX_1419384_f</td>\n",
       "      <td>0</td>\n",
       "      <td>+</td>\n",
       "    </tr>\n",
       "    <tr>\n",
       "      <th>2</th>\n",
       "      <td>chrX</td>\n",
       "      <td>1424338</td>\n",
       "      <td>1424420</td>\n",
       "      <td>NM_006140_exon_11_0_chrX_1424339_f</td>\n",
       "      <td>0</td>\n",
       "      <td>+</td>\n",
       "    </tr>\n",
       "    <tr>\n",
       "      <th>3</th>\n",
       "      <td>chrX</td>\n",
       "      <td>1407651</td>\n",
       "      <td>1407781</td>\n",
       "      <td>NM_001161532_exon_3_0_chrX_1407652_f</td>\n",
       "      <td>0</td>\n",
       "      <td>+</td>\n",
       "    </tr>\n",
       "    <tr>\n",
       "      <th>4</th>\n",
       "      <td>chrX</td>\n",
       "      <td>1404670</td>\n",
       "      <td>1404813</td>\n",
       "      <td>NM_172245_exon_3_0_chrX_1404671_f</td>\n",
       "      <td>0</td>\n",
       "      <td>+</td>\n",
       "    </tr>\n",
       "    <tr>\n",
       "      <th>5</th>\n",
       "      <td>chrX</td>\n",
       "      <td>1424338</td>\n",
       "      <td>1424420</td>\n",
       "      <td>NM_001161530_exon_10_0_chrX_1424339_f</td>\n",
       "      <td>0</td>\n",
       "      <td>+</td>\n",
       "    </tr>\n",
       "    <tr>\n",
       "      <th>6</th>\n",
       "      <td>chrX</td>\n",
       "      <td>1414319</td>\n",
       "      <td>1414349</td>\n",
       "      <td>NM_172245_exon_8_0_chrX_1414320_f</td>\n",
       "      <td>0</td>\n",
       "      <td>+</td>\n",
       "    </tr>\n",
       "    <tr>\n",
       "      <th>7</th>\n",
       "      <td>chrX</td>\n",
       "      <td>1407411</td>\n",
       "      <td>1407535</td>\n",
       "      <td>NM_172249_exon_4_0_chrX_1407412_f</td>\n",
       "      <td>0</td>\n",
       "      <td>+</td>\n",
       "    </tr>\n",
       "  </tbody>\n",
       "</table>\n",
       "</div>"
      ],
      "text/plain": [
       "  Chromosome    Start      End                                   Name  Score  \\\n",
       "0       chrX  1475113  1475229   NM_001267713_exon_4_0_chrX_1475114_f      0   \n",
       "1       chrX  1419383  1419519   NM_001161531_exon_9_0_chrX_1419384_f      0   \n",
       "2       chrX  1424338  1424420     NM_006140_exon_11_0_chrX_1424339_f      0   \n",
       "3       chrX  1407651  1407781   NM_001161532_exon_3_0_chrX_1407652_f      0   \n",
       "4       chrX  1404670  1404813      NM_172245_exon_3_0_chrX_1404671_f      0   \n",
       "5       chrX  1424338  1424420  NM_001161530_exon_10_0_chrX_1424339_f      0   \n",
       "6       chrX  1414319  1414349      NM_172245_exon_8_0_chrX_1414320_f      0   \n",
       "7       chrX  1407411  1407535      NM_172249_exon_4_0_chrX_1407412_f      0   \n",
       "\n",
       "  Strand  \n",
       "0      +  \n",
       "1      +  \n",
       "2      +  \n",
       "3      +  \n",
       "4      +  \n",
       "5      +  \n",
       "6      +  \n",
       "7      +  "
      ]
     },
     "execution_count": 69,
     "metadata": {},
     "output_type": "execute_result"
    }
   ],
   "source": [
    "df_exons.overlap(df_locus).df"
   ]
  },
  {
   "cell_type": "markdown",
   "id": "mexican-healing",
   "metadata": {
    "tags": []
   },
   "source": [
    "#### Obonet\n",
    "\n",
    "[Obonet](https://github.com/dhimmel/obonet) is a library for working with (OBO-formatted) ontologies."
   ]
  },
  {
   "cell_type": "code",
   "execution_count": 70,
   "id": "conceptual-brown",
   "metadata": {
    "tags": []
   },
   "outputs": [],
   "source": [
    "import obonet"
   ]
  },
  {
   "cell_type": "code",
   "execution_count": 71,
   "id": "modular-brisbane",
   "metadata": {
    "tags": []
   },
   "outputs": [],
   "source": [
    "url = 'https://github.com/DiseaseOntology/HumanDiseaseOntology/raw/main/src/ontology/HumanDO.obo'\n",
    "graph = obonet.read_obo(url)"
   ]
  },
  {
   "cell_type": "code",
   "execution_count": 72,
   "id": "quiet-gauge",
   "metadata": {
    "tags": []
   },
   "outputs": [
    {
     "data": {
      "text/plain": [
       "('DOID:0001816',\n",
       " {'name': 'angiosarcoma',\n",
       "  'alt_id': ['DOID:267', 'DOID:4508'],\n",
       "  'def': '\"A vascular cancer that derives_from the cells that line the walls of blood vessels or lymphatic vessels.\" [url:http\\\\://en.wikipedia.org/wiki/Hemangiosarcoma, url:https\\\\://en.wikipedia.org/wiki/Angiosarcoma, url:https\\\\://ncit.nci.nih.gov/ncitbrowser/ConceptReport.jsp?dictionary=NCI_Thesaurus&ns=ncit&code=C3088, url:https\\\\://www.ncbi.nlm.nih.gov/pubmed/23327728]',\n",
       "  'subset': ['DO_cancer_slim', 'NCIthesaurus'],\n",
       "  'synonym': ['\"hemangiosarcoma\" EXACT []'],\n",
       "  'xref': ['ICDO:9120/3',\n",
       "   'MESH:D006394',\n",
       "   'NCI:C3088',\n",
       "   'NCI:C9275',\n",
       "   'SNOMEDCT_US_2020_09_01:39000009',\n",
       "   'UMLS_CUI:C0018923',\n",
       "   'UMLS_CUI:C0854893'],\n",
       "  'is_a': ['DOID:175']})"
      ]
     },
     "execution_count": 72,
     "metadata": {},
     "output_type": "execute_result"
    }
   ],
   "source": [
    "list(graph.nodes(data=True))[0]"
   ]
  },
  {
   "cell_type": "markdown",
   "id": "super-routine",
   "metadata": {
    "tags": []
   },
   "source": [
    "### Statistics/Machine Learning"
   ]
  },
  {
   "cell_type": "markdown",
   "id": "generous-feeding",
   "metadata": {
    "tags": []
   },
   "source": [
    "#### Statsmodels\n",
    "\n",
    "[Statsmodels](https://github.com/statsmodels/statsmodels) helps with statistical modelling."
   ]
  },
  {
   "cell_type": "code",
   "execution_count": 73,
   "id": "diagnostic-soviet",
   "metadata": {
    "tags": []
   },
   "outputs": [],
   "source": [
    "import statsmodels.formula.api as smf"
   ]
  },
  {
   "cell_type": "code",
   "execution_count": 74,
   "id": "separated-eight",
   "metadata": {
    "tags": []
   },
   "outputs": [
    {
     "data": {
      "text/html": [
       "<div>\n",
       "<style scoped>\n",
       "    .dataframe tbody tr th:only-of-type {\n",
       "        vertical-align: middle;\n",
       "    }\n",
       "\n",
       "    .dataframe tbody tr th {\n",
       "        vertical-align: top;\n",
       "    }\n",
       "\n",
       "    .dataframe thead th {\n",
       "        text-align: right;\n",
       "    }\n",
       "</style>\n",
       "<table border=\"1\" class=\"dataframe\">\n",
       "  <thead>\n",
       "    <tr style=\"text-align: right;\">\n",
       "      <th></th>\n",
       "      <th>X</th>\n",
       "      <th>Y</th>\n",
       "    </tr>\n",
       "  </thead>\n",
       "  <tbody>\n",
       "    <tr>\n",
       "      <th>0</th>\n",
       "      <td>0.927521</td>\n",
       "      <td>5.405777</td>\n",
       "    </tr>\n",
       "    <tr>\n",
       "      <th>1</th>\n",
       "      <td>2.110368</td>\n",
       "      <td>6.943479</td>\n",
       "    </tr>\n",
       "    <tr>\n",
       "      <th>2</th>\n",
       "      <td>1.517580</td>\n",
       "      <td>6.172854</td>\n",
       "    </tr>\n",
       "    <tr>\n",
       "      <th>3</th>\n",
       "      <td>-0.069583</td>\n",
       "      <td>4.109542</td>\n",
       "    </tr>\n",
       "    <tr>\n",
       "      <th>4</th>\n",
       "      <td>-0.644390</td>\n",
       "      <td>3.362293</td>\n",
       "    </tr>\n",
       "  </tbody>\n",
       "</table>\n",
       "</div>"
      ],
      "text/plain": [
       "          X         Y\n",
       "0  0.927521  5.405777\n",
       "1  2.110368  6.943479\n",
       "2  1.517580  6.172854\n",
       "3 -0.069583  4.109542\n",
       "4 -0.644390  3.362293"
      ]
     },
     "execution_count": 74,
     "metadata": {},
     "output_type": "execute_result"
    }
   ],
   "source": [
    "df_data = pd.DataFrame({'X': np.random.normal(size=100)})\n",
    "\n",
    "df_data['Y'] = 1.3 * df_data['X'] + 4.2\n",
    "\n",
    "df_data.head()"
   ]
  },
  {
   "cell_type": "code",
   "execution_count": 75,
   "id": "residential-quebec",
   "metadata": {
    "tags": []
   },
   "outputs": [],
   "source": [
    "mod = smf.ols('Y ~ X', data=df_data)\n",
    "res = mod.fit()"
   ]
  },
  {
   "cell_type": "code",
   "execution_count": 76,
   "id": "convertible-guidance",
   "metadata": {
    "tags": []
   },
   "outputs": [
    {
     "data": {
      "text/plain": [
       "Intercept    4.2\n",
       "X            1.3\n",
       "dtype: float64"
      ]
     },
     "execution_count": 76,
     "metadata": {},
     "output_type": "execute_result"
    }
   ],
   "source": [
    "res.params"
   ]
  },
  {
   "cell_type": "code",
   "execution_count": 77,
   "id": "arabic-upgrade",
   "metadata": {
    "tags": []
   },
   "outputs": [
    {
     "data": {
      "text/html": [
       "<table class=\"simpletable\">\n",
       "<tr>\n",
       "      <td></td>         <th>coef</th>     <th>std err</th>      <th>t</th>      <th>P>|t|</th>  <th>[0.025</th>    <th>0.975]</th>  \n",
       "</tr>\n",
       "<tr>\n",
       "  <th>Intercept</th> <td>    4.2000</td> <td> 2.03e-16</td> <td> 2.07e+16</td> <td> 0.000</td> <td>    4.200</td> <td>    4.200</td>\n",
       "</tr>\n",
       "<tr>\n",
       "  <th>X</th>         <td>    1.3000</td> <td> 1.93e-16</td> <td> 6.73e+15</td> <td> 0.000</td> <td>    1.300</td> <td>    1.300</td>\n",
       "</tr>\n",
       "</table>"
      ],
      "text/plain": [
       "<class 'statsmodels.iolib.table.SimpleTable'>"
      ]
     },
     "execution_count": 77,
     "metadata": {},
     "output_type": "execute_result"
    }
   ],
   "source": [
    "res.summary().tables[1]"
   ]
  },
  {
   "cell_type": "markdown",
   "id": "tired-sacrifice",
   "metadata": {
    "tags": []
   },
   "source": [
    "#### Pingouin\n",
    "\n",
    "[Pingouin](https://github.com/raphaelvallat/pingouin) provides additional statistical methods."
   ]
  },
  {
   "cell_type": "code",
   "execution_count": 78,
   "id": "organized-republic",
   "metadata": {
    "tags": []
   },
   "outputs": [],
   "source": [
    "import pingouin as pg"
   ]
  },
  {
   "cell_type": "code",
   "execution_count": 79,
   "id": "educational-consequence",
   "metadata": {
    "tags": []
   },
   "outputs": [
    {
     "name": "stderr",
     "output_type": "stream",
     "text": [
      "/Users/kimja/.pyenv/versions/3.8.6/lib/python3.8/site-packages/outdated/utils.py:14: OutdatedPackageWarning: The package outdated is out of date. Your version is 0.2.0, the latest is 0.2.1.\n",
      "Set the environment variable OUTDATED_IGNORE=1 to disable these warnings.\n",
      "/Users/kimja/.pyenv/versions/3.8.6/lib/python3.8/site-packages/outdated/utils.py:14: OutdatedPackageWarning: The package pingouin is out of date. Your version is 0.3.9, the latest is 0.3.11.\n",
      "Set the environment variable OUTDATED_IGNORE=1 to disable these warnings.\n"
     ]
    },
    {
     "data": {
      "text/html": [
       "<div>\n",
       "<style scoped>\n",
       "    .dataframe tbody tr th:only-of-type {\n",
       "        vertical-align: middle;\n",
       "    }\n",
       "\n",
       "    .dataframe tbody tr th {\n",
       "        vertical-align: top;\n",
       "    }\n",
       "\n",
       "    .dataframe thead th {\n",
       "        text-align: right;\n",
       "    }\n",
       "</style>\n",
       "<table border=\"1\" class=\"dataframe\">\n",
       "  <thead>\n",
       "    <tr style=\"text-align: right;\">\n",
       "      <th></th>\n",
       "      <th>W</th>\n",
       "      <th>pval</th>\n",
       "      <th>normal</th>\n",
       "    </tr>\n",
       "  </thead>\n",
       "  <tbody>\n",
       "    <tr>\n",
       "      <th>0</th>\n",
       "      <td>0.985349</td>\n",
       "      <td>0.336443</td>\n",
       "      <td>True</td>\n",
       "    </tr>\n",
       "  </tbody>\n",
       "</table>\n",
       "</div>"
      ],
      "text/plain": [
       "          W      pval  normal\n",
       "0  0.985349  0.336443    True"
      ]
     },
     "execution_count": 79,
     "metadata": {},
     "output_type": "execute_result"
    }
   ],
   "source": [
    "pg.normality(np.random.normal(size=100))"
   ]
  },
  {
   "cell_type": "code",
   "execution_count": 80,
   "id": "potential-lawsuit",
   "metadata": {
    "tags": []
   },
   "outputs": [
    {
     "data": {
      "text/html": [
       "<div>\n",
       "<style scoped>\n",
       "    .dataframe tbody tr th:only-of-type {\n",
       "        vertical-align: middle;\n",
       "    }\n",
       "\n",
       "    .dataframe tbody tr th {\n",
       "        vertical-align: top;\n",
       "    }\n",
       "\n",
       "    .dataframe thead th {\n",
       "        text-align: right;\n",
       "    }\n",
       "</style>\n",
       "<table border=\"1\" class=\"dataframe\">\n",
       "  <thead>\n",
       "    <tr style=\"text-align: right;\">\n",
       "      <th></th>\n",
       "      <th>W</th>\n",
       "      <th>pval</th>\n",
       "      <th>normal</th>\n",
       "    </tr>\n",
       "  </thead>\n",
       "  <tbody>\n",
       "    <tr>\n",
       "      <th>0</th>\n",
       "      <td>0.946713</td>\n",
       "      <td>0.000507</td>\n",
       "      <td>False</td>\n",
       "    </tr>\n",
       "  </tbody>\n",
       "</table>\n",
       "</div>"
      ],
      "text/plain": [
       "          W      pval  normal\n",
       "0  0.946713  0.000507   False"
      ]
     },
     "execution_count": 80,
     "metadata": {},
     "output_type": "execute_result"
    }
   ],
   "source": [
    "pg.normality(np.random.uniform(size=100))"
   ]
  },
  {
   "cell_type": "markdown",
   "id": "stable-absolute",
   "metadata": {
    "tags": []
   },
   "source": [
    "#### Scitkit-learn\n",
    "\n",
    "[Scikit-learn](https://github.com/scikit-learn/scikit-learn) facilitates machine learning in Python."
   ]
  },
  {
   "cell_type": "code",
   "execution_count": 81,
   "id": "blessed-consolidation",
   "metadata": {
    "tags": []
   },
   "outputs": [],
   "source": [
    "from sklearn import svm\n",
    "from sklearn import datasets\n",
    "from sklearn.model_selection import train_test_split"
   ]
  },
  {
   "cell_type": "code",
   "execution_count": 82,
   "id": "tutorial-license",
   "metadata": {
    "tags": []
   },
   "outputs": [
    {
     "data": {
      "text/plain": [
       "((150, 4), (150,))"
      ]
     },
     "execution_count": 82,
     "metadata": {},
     "output_type": "execute_result"
    }
   ],
   "source": [
    "X, y = datasets.load_iris(return_X_y=True)\n",
    "X.shape, y.shape"
   ]
  },
  {
   "cell_type": "code",
   "execution_count": 83,
   "id": "surprising-motor",
   "metadata": {
    "tags": []
   },
   "outputs": [],
   "source": [
    "X_train, X_test, y_train, y_test = train_test_split(X, y, test_size=0.4, random_state=0)"
   ]
  },
  {
   "cell_type": "code",
   "execution_count": 84,
   "id": "duplicate-square",
   "metadata": {
    "tags": []
   },
   "outputs": [
    {
     "data": {
      "text/plain": [
       "0.9666666666666667"
      ]
     },
     "execution_count": 84,
     "metadata": {},
     "output_type": "execute_result"
    }
   ],
   "source": [
    "clf = svm.SVC(kernel='linear', C=1).fit(X_train, y_train)\n",
    "clf.score(X_test, y_test)"
   ]
  },
  {
   "cell_type": "markdown",
   "id": "consecutive-modern",
   "metadata": {
    "tags": []
   },
   "source": [
    "Scikit-learn offers various plugins which deal with common issues encountered while modeling."
   ]
  },
  {
   "cell_type": "markdown",
   "id": "regular-medicaid",
   "metadata": {
    "tags": []
   },
   "source": [
    "[Imbalanced-learn](https://github.com/scikit-learn-contrib/imbalanced-learn) provides various re-sampling techniques when the dataset has annoying class imbalances."
   ]
  },
  {
   "cell_type": "code",
   "execution_count": 85,
   "id": "alone-ministry",
   "metadata": {
    "tags": []
   },
   "outputs": [],
   "source": [
    "import collections\n",
    "\n",
    "from imblearn.over_sampling import RandomOverSampler"
   ]
  },
  {
   "cell_type": "code",
   "execution_count": 86,
   "id": "minute-detective",
   "metadata": {
    "tags": []
   },
   "outputs": [],
   "source": [
    "ros = RandomOverSampler(random_state=0)"
   ]
  },
  {
   "cell_type": "code",
   "execution_count": 87,
   "id": "chinese-effect",
   "metadata": {
    "tags": []
   },
   "outputs": [],
   "source": [
    "X_sub, y_sub = X[:60, :], y[:60]\n",
    "X_resampled, y_resampled = ros.fit_resample(X_sub, y_sub)"
   ]
  },
  {
   "cell_type": "code",
   "execution_count": 88,
   "id": "dedicated-emerald",
   "metadata": {
    "tags": []
   },
   "outputs": [
    {
     "name": "stdout",
     "output_type": "stream",
     "text": [
      "sub: [(0, 50), (1, 10)]\n",
      "resampled: [(0, 50), (1, 50)]\n"
     ]
    }
   ],
   "source": [
    "print('sub:', sorted(collections.Counter(y_sub).items()))\n",
    "print('resampled:', sorted(collections.Counter(y_resampled).items()))"
   ]
  },
  {
   "cell_type": "markdown",
   "id": "refined-steal",
   "metadata": {
    "tags": []
   },
   "source": [
    "[Category_encoders](https://github.com/scikit-learn-contrib/category_encoders) helps with converting categorical variables to numerical ones."
   ]
  },
  {
   "cell_type": "code",
   "execution_count": 89,
   "id": "fatty-personality",
   "metadata": {
    "tags": []
   },
   "outputs": [],
   "source": [
    "import category_encoders"
   ]
  },
  {
   "cell_type": "code",
   "execution_count": 90,
   "id": "composed-advertiser",
   "metadata": {
    "tags": []
   },
   "outputs": [
    {
     "data": {
      "text/html": [
       "<div>\n",
       "<style scoped>\n",
       "    .dataframe tbody tr th:only-of-type {\n",
       "        vertical-align: middle;\n",
       "    }\n",
       "\n",
       "    .dataframe tbody tr th {\n",
       "        vertical-align: top;\n",
       "    }\n",
       "\n",
       "    .dataframe thead th {\n",
       "        text-align: right;\n",
       "    }\n",
       "</style>\n",
       "<table border=\"1\" class=\"dataframe\">\n",
       "  <thead>\n",
       "    <tr style=\"text-align: right;\">\n",
       "      <th></th>\n",
       "      <th>original_class</th>\n",
       "      <th>feature01</th>\n",
       "    </tr>\n",
       "  </thead>\n",
       "  <tbody>\n",
       "    <tr>\n",
       "      <th>0</th>\n",
       "      <td>A</td>\n",
       "      <td>A</td>\n",
       "    </tr>\n",
       "    <tr>\n",
       "      <th>1</th>\n",
       "      <td>B</td>\n",
       "      <td>B</td>\n",
       "    </tr>\n",
       "    <tr>\n",
       "      <th>2</th>\n",
       "      <td>A</td>\n",
       "      <td>A</td>\n",
       "    </tr>\n",
       "    <tr>\n",
       "      <th>3</th>\n",
       "      <td>A</td>\n",
       "      <td>A</td>\n",
       "    </tr>\n",
       "    <tr>\n",
       "      <th>4</th>\n",
       "      <td>B</td>\n",
       "      <td>B</td>\n",
       "    </tr>\n",
       "  </tbody>\n",
       "</table>\n",
       "</div>"
      ],
      "text/plain": [
       "  original_class feature01\n",
       "0              A         A\n",
       "1              B         B\n",
       "2              A         A\n",
       "3              A         A\n",
       "4              B         B"
      ]
     },
     "execution_count": 90,
     "metadata": {},
     "output_type": "execute_result"
    }
   ],
   "source": [
    "tmp = np.random.choice(['A', 'B'], size=10)\n",
    "df_cat = pd.DataFrame({'original_class': tmp, 'feature01': tmp})\n",
    "df_cat.head()"
   ]
  },
  {
   "cell_type": "code",
   "execution_count": 91,
   "id": "minor-assurance",
   "metadata": {
    "tags": []
   },
   "outputs": [
    {
     "data": {
      "text/html": [
       "<div>\n",
       "<style scoped>\n",
       "    .dataframe tbody tr th:only-of-type {\n",
       "        vertical-align: middle;\n",
       "    }\n",
       "\n",
       "    .dataframe tbody tr th {\n",
       "        vertical-align: top;\n",
       "    }\n",
       "\n",
       "    .dataframe thead th {\n",
       "        text-align: right;\n",
       "    }\n",
       "</style>\n",
       "<table border=\"1\" class=\"dataframe\">\n",
       "  <thead>\n",
       "    <tr style=\"text-align: right;\">\n",
       "      <th></th>\n",
       "      <th>original_class</th>\n",
       "      <th>feature01_1</th>\n",
       "      <th>feature01_2</th>\n",
       "    </tr>\n",
       "  </thead>\n",
       "  <tbody>\n",
       "    <tr>\n",
       "      <th>0</th>\n",
       "      <td>A</td>\n",
       "      <td>1</td>\n",
       "      <td>0</td>\n",
       "    </tr>\n",
       "    <tr>\n",
       "      <th>1</th>\n",
       "      <td>B</td>\n",
       "      <td>0</td>\n",
       "      <td>1</td>\n",
       "    </tr>\n",
       "    <tr>\n",
       "      <th>2</th>\n",
       "      <td>A</td>\n",
       "      <td>1</td>\n",
       "      <td>0</td>\n",
       "    </tr>\n",
       "    <tr>\n",
       "      <th>3</th>\n",
       "      <td>A</td>\n",
       "      <td>1</td>\n",
       "      <td>0</td>\n",
       "    </tr>\n",
       "    <tr>\n",
       "      <th>4</th>\n",
       "      <td>B</td>\n",
       "      <td>0</td>\n",
       "      <td>1</td>\n",
       "    </tr>\n",
       "    <tr>\n",
       "      <th>5</th>\n",
       "      <td>B</td>\n",
       "      <td>0</td>\n",
       "      <td>1</td>\n",
       "    </tr>\n",
       "    <tr>\n",
       "      <th>6</th>\n",
       "      <td>B</td>\n",
       "      <td>0</td>\n",
       "      <td>1</td>\n",
       "    </tr>\n",
       "    <tr>\n",
       "      <th>7</th>\n",
       "      <td>B</td>\n",
       "      <td>0</td>\n",
       "      <td>1</td>\n",
       "    </tr>\n",
       "    <tr>\n",
       "      <th>8</th>\n",
       "      <td>B</td>\n",
       "      <td>0</td>\n",
       "      <td>1</td>\n",
       "    </tr>\n",
       "    <tr>\n",
       "      <th>9</th>\n",
       "      <td>B</td>\n",
       "      <td>0</td>\n",
       "      <td>1</td>\n",
       "    </tr>\n",
       "  </tbody>\n",
       "</table>\n",
       "</div>"
      ],
      "text/plain": [
       "  original_class  feature01_1  feature01_2\n",
       "0              A            1            0\n",
       "1              B            0            1\n",
       "2              A            1            0\n",
       "3              A            1            0\n",
       "4              B            0            1\n",
       "5              B            0            1\n",
       "6              B            0            1\n",
       "7              B            0            1\n",
       "8              B            0            1\n",
       "9              B            0            1"
      ]
     },
     "execution_count": 91,
     "metadata": {},
     "output_type": "execute_result"
    }
   ],
   "source": [
    "category_encoders.OneHotEncoder(cols=['feature01']).fit_transform(df_cat)"
   ]
  },
  {
   "cell_type": "markdown",
   "id": "exceptional-memorial",
   "metadata": {
    "tags": []
   },
   "source": [
    "[Yellowbrick](https://github.com/DistrictDataLabs/yellowbrick) makes a multitude of visual diagnostic tools readily accessible."
   ]
  },
  {
   "cell_type": "code",
   "execution_count": 92,
   "id": "suitable-documentation",
   "metadata": {
    "tags": []
   },
   "outputs": [],
   "source": [
    "from yellowbrick.classifier import ROCAUC"
   ]
  },
  {
   "cell_type": "code",
   "execution_count": 93,
   "id": "retained-shuttle",
   "metadata": {
    "tags": []
   },
   "outputs": [
    {
     "data": {
      "text/plain": [
       "SVC(C=1, kernel='linear')"
      ]
     },
     "execution_count": 93,
     "metadata": {},
     "output_type": "execute_result"
    }
   ],
   "source": [
    "clf.fit(X, y)"
   ]
  },
  {
   "cell_type": "code",
   "execution_count": 94,
   "id": "concrete-tobago",
   "metadata": {
    "tags": []
   },
   "outputs": [
    {
     "data": {
      "image/png": "[encoded data removed]",
      "text/plain": [
       "<Figure size 576x396 with 1 Axes>"
      ]
     },
     "metadata": {},
     "output_type": "display_data"
    },
    {
     "data": {
      "text/plain": [
       "<AxesSubplot:title={'center':'ROC Curves for SVC'}, xlabel='False Positive Rate', ylabel='True Positive Rate'>"
      ]
     },
     "execution_count": 94,
     "metadata": {},
     "output_type": "execute_result"
    }
   ],
   "source": [
    "visualizer = ROCAUC(clf)\n",
    "# visualizer.score(X, y)  # TODO: uncomment once scikit-learn is fixed\n",
    "visualizer.show()"
   ]
  },
  {
   "cell_type": "markdown",
   "id": "considered-freeware",
   "metadata": {
    "tags": []
   },
   "source": [
    "## Language Bindings"
   ]
  },
  {
   "cell_type": "markdown",
   "id": "automatic-amino",
   "metadata": {
    "tags": []
   },
   "source": [
    "### Pybind11\n",
    "\n",
    "[Pybind11](https://github.com/pybind/pybind11) makes writing bindings between Python and C++ enjoyable. In combination with [cppimport](https://github.com/tbenthompson/cppimport) some might even call it fun.\n",
    "It is possible to implement [custom typecasters](https://pybind11.readthedocs.io/en/stable/advanced/cast/custom.html) to support bindings for arbitrary objects."
   ]
  },
  {
   "cell_type": "code",
   "execution_count": 95,
   "id": "statistical-armenia",
   "metadata": {
    "tags": []
   },
   "outputs": [
    {
     "name": "stdout",
     "output_type": "stream",
     "text": [
      "Overwriting cpp_source.cpp\n"
     ]
    }
   ],
   "source": [
    "%%writefile cpp_source.cpp\n",
    "\n",
    "#include <pybind11/pybind11.h>\n",
    "\n",
    "namespace py = pybind11;\n",
    "\n",
    "\n",
    "int square(int x) {\n",
    "    return x * x;\n",
    "}\n",
    "\n",
    "PYBIND11_MODULE(cpp_source, m) {\n",
    "    m.def(\n",
    "        \"square\", &square,\n",
    "        py::arg(\"x\") = 1\n",
    "    );\n",
    "}\n",
    "\n",
    "/*\n",
    "<%\n",
    "setup_pybind11(cfg)\n",
    "cfg['compiler_args'] = ['-std=c++11']\n",
    "%>\n",
    "*/"
   ]
  },
  {
   "cell_type": "code",
   "execution_count": 96,
   "id": "wrapped-thumbnail",
   "metadata": {
    "tags": []
   },
   "outputs": [],
   "source": [
    "import cppimport"
   ]
  },
  {
   "cell_type": "code",
   "execution_count": 97,
   "id": "blank-silver",
   "metadata": {
    "tags": []
   },
   "outputs": [],
   "source": [
    "cpp_source = cppimport.imp('cpp_source')"
   ]
  },
  {
   "cell_type": "code",
   "execution_count": 98,
   "id": "faced-flesh",
   "metadata": {
    "tags": []
   },
   "outputs": [
    {
     "data": {
      "text/plain": [
       "25"
      ]
     },
     "execution_count": 98,
     "metadata": {},
     "output_type": "execute_result"
    }
   ],
   "source": [
    "cpp_source.square(5)"
   ]
  },
  {
   "cell_type": "markdown",
   "id": "religious-azerbaijan",
   "metadata": {
    "tags": []
   },
   "source": [
    "## Jupyter"
   ]
  },
  {
   "cell_type": "markdown",
   "id": "collaborative-wildlife",
   "metadata": {
    "tags": []
   },
   "source": [
    "### Nbstripout\n",
    "\n",
    "Commiting Jupyter notebooks to CVS (e.g. git) can be annoying due to non-code properties being saved.\n",
    "[Nbstripout](https://github.com/kynan/nbstripout) strips all of those away and can be run automatically for each committed notebook by executing `nbstripout --install` once."
   ]
  },
  {
   "cell_type": "markdown",
   "id": "suspended-basin",
   "metadata": {
    "tags": []
   },
   "source": [
    "## Miscellaneous"
   ]
  },
  {
   "cell_type": "markdown",
   "id": "documented-paraguay",
   "metadata": {
    "tags": []
   },
   "source": [
    "### humanize\n",
    "\n",
    "[humanize](https://github.com/jmoiron/humanize) allows to format numbers with the goal of making them more human-readable."
   ]
  },
  {
   "cell_type": "code",
   "execution_count": 99,
   "id": "junior-claim",
   "metadata": {
    "tags": []
   },
   "outputs": [],
   "source": [
    "import datetime\n",
    "\n",
    "import humanize"
   ]
  },
  {
   "cell_type": "markdown",
   "id": "dedicated-graduation",
   "metadata": {
    "tags": []
   },
   "source": [
    "This is, of course, highly context-dependent:"
   ]
  },
  {
   "cell_type": "code",
   "execution_count": 100,
   "id": "coordinated-binary",
   "metadata": {
    "tags": []
   },
   "outputs": [
    {
     "name": "stdout",
     "output_type": "stream",
     "text": [
      "Actual number: 4578934\n",
      "Readable number: 4.6 million\n",
      "Time difference: 1 month, 21 days, 23 hours, 55 minutes and 34 seconds\n",
      "File size: 4.6 MB\n"
     ]
    }
   ],
   "source": [
    "big_number = 4578934\n",
    "\n",
    "print('Actual number:', big_number)\n",
    "print('Readable number:', humanize.intword(big_number))\n",
    "print('Time difference:', humanize.precisedelta(datetime.timedelta(seconds=big_number)))\n",
    "print('File size:', humanize.naturalsize(big_number))"
   ]
  },
  {
   "cell_type": "markdown",
   "id": "spoken-mechanics",
   "metadata": {
    "tags": []
   },
   "source": [
    "### rich\n",
    "\n",
    "Making sure that terminal applications have nicely formatted output makes using them a much better experience.\n",
    "\n",
    "[rich](https://github.com/willmcgugan/rich) makes it easy to add colors and other fluff."
   ]
  },
  {
   "cell_type": "code",
   "execution_count": 101,
   "id": "greenhouse-porter",
   "metadata": {
    "tags": []
   },
   "outputs": [],
   "source": [
    "import rich"
   ]
  },
  {
   "cell_type": "code",
   "execution_count": 102,
   "id": "enormous-stamp",
   "metadata": {
    "tags": []
   },
   "outputs": [
    {
     "data": {
      "text/html": [
       "<pre style=\"white-space:pre;overflow-x:auto;line-height:normal;font-family:Menlo,'DejaVu Sans Mono',consolas,'Courier New',monospace\"><span style=\"color: #008000; text-decoration-color: #008000\">Hello</span> <span style=\"color: #800000; text-decoration-color: #800000; font-weight: bold\">World</span> 🎉\n",
       "</pre>\n"
      ],
      "text/plain": [
       "\u001b[32mHello\u001b[0m \u001b[1;31mWorld\u001b[0m 🎉\n"
      ]
     },
     "metadata": {},
     "output_type": "display_data"
    }
   ],
   "source": [
    "rich.print('[green]Hello[/green] [bold red]World[/bold red] :tada:')"
   ]
  },
  {
   "cell_type": "markdown",
   "id": "stable-roberts",
   "metadata": {
    "tags": []
   },
   "source": [
    "It is also useful in the everyday life of a Python developer:"
   ]
  },
  {
   "cell_type": "code",
   "execution_count": 103,
   "id": "sporting-allergy",
   "metadata": {
    "tags": []
   },
   "outputs": [
    {
     "data": {
      "text/html": [
       "<pre style=\"white-space:pre;overflow-x:auto;line-height:normal;font-family:Menlo,'DejaVu Sans Mono',consolas,'Courier New',monospace\"><span style=\"color: #000080; text-decoration-color: #000080\">╭──────────────────────────── </span><span style=\"color: #000080; text-decoration-color: #000080; font-weight: bold\">&lt;</span><span style=\"color: #ff00ff; text-decoration-color: #ff00ff; font-weight: bold\">function</span><span style=\"color: #000000; text-decoration-color: #000000\"> print at </span><span style=\"color: #008080; text-decoration-color: #008080; font-weight: bold\">0x14c517d30</span><span style=\"color: #000080; text-decoration-color: #000080; font-weight: bold\">&gt;</span><span style=\"color: #000080; text-decoration-color: #000080\"> ────────────────────────────╮</span>\n",
       "<span style=\"color: #000080; text-decoration-color: #000080\">│</span> <span style=\"color: #00ffff; text-decoration-color: #00ffff; font-style: italic\">def </span><span style=\"color: #800000; text-decoration-color: #800000; font-weight: bold\">print</span><span style=\"font-weight: bold\">(</span>*objects: Any, <span style=\"color: #808000; text-decoration-color: #808000\">sep</span>=<span style=\"color: #008000; text-decoration-color: #008000\">' '</span>, <span style=\"color: #808000; text-decoration-color: #808000\">end</span>=<span style=\"color: #008000; text-decoration-color: #008000\">'\\n'</span>, file: IO<span style=\"font-weight: bold\">[</span>str<span style=\"font-weight: bold\">]</span> = <span style=\"color: #800080; text-decoration-color: #800080; font-style: italic\">None</span>, flush: bool = <span style=\"color: #ff0000; text-decoration-color: #ff0000; font-style: italic\">False</span><span style=\"font-weight: bold\">)</span>: <span style=\"color: #000080; text-decoration-color: #000080\">│</span>\n",
       "<span style=\"color: #000080; text-decoration-color: #000080\">│</span>                                                                                         <span style=\"color: #000080; text-decoration-color: #000080\">│</span>\n",
       "<span style=\"color: #000080; text-decoration-color: #000080\">│</span> <span style=\"color: #008080; text-decoration-color: #008080\">Print object</span><span style=\"color: #008080; text-decoration-color: #008080; font-weight: bold\">(</span><span style=\"color: #008080; text-decoration-color: #008080\">s</span><span style=\"color: #008080; text-decoration-color: #008080; font-weight: bold\">)</span><span style=\"color: #008080; text-decoration-color: #008080\"> supplied via positional arguments.</span>                                      <span style=\"color: #000080; text-decoration-color: #000080\">│</span>\n",
       "<span style=\"color: #000080; text-decoration-color: #000080\">│</span> <span style=\"color: #008080; text-decoration-color: #008080\">This function has an identical signature to the built-in print.</span>                         <span style=\"color: #000080; text-decoration-color: #000080\">│</span>\n",
       "<span style=\"color: #000080; text-decoration-color: #000080\">│</span> <span style=\"color: #008080; text-decoration-color: #008080\">For more advanced features, see the :class:`~rich.console.Console` class.</span>               <span style=\"color: #000080; text-decoration-color: #000080\">│</span>\n",
       "<span style=\"color: #000080; text-decoration-color: #000080\">│</span>                                                                                         <span style=\"color: #000080; text-decoration-color: #000080\">│</span>\n",
       "<span style=\"color: #000080; text-decoration-color: #000080\">│</span> <span style=\"color: #008080; text-decoration-color: #008080; font-weight: bold\">35</span><span style=\"font-style: italic\"> attribute</span><span style=\"font-weight: bold; font-style: italic\">(</span><span style=\"font-style: italic\">s</span><span style=\"font-weight: bold; font-style: italic\">)</span><span style=\"font-style: italic\"> not shown.</span> Run <span style=\"color: #800000; text-decoration-color: #800000; font-weight: bold\">inspect</span><span style=\"font-weight: bold\">(</span>inspect<span style=\"font-weight: bold\">)</span> for options.                            <span style=\"color: #000080; text-decoration-color: #000080\">│</span>\n",
       "<span style=\"color: #000080; text-decoration-color: #000080\">╰─────────────────────────────────────────────────────────────────────────────────────────╯</span>\n",
       "</pre>\n"
      ],
      "text/plain": [
       "\u001b[34m╭─\u001b[0m\u001b[34m─────────────────────────── \u001b[0m\u001b[1;34m<\u001b[0m\u001b[1;95mfunction\u001b[0m\u001b[39m print at \u001b[0m\u001b[1;36m0x14c517d30\u001b[0m\u001b[1;34m>\u001b[0m\u001b[34m ───────────────────────────\u001b[0m\u001b[34m─╮\u001b[0m\n",
       "\u001b[34m│\u001b[0m \u001b[3;96mdef \u001b[0m\u001b[1;31mprint\u001b[0m\u001b[1m(\u001b[0m*objects: Any, \u001b[33msep\u001b[0m=\u001b[32m' '\u001b[0m, \u001b[33mend\u001b[0m=\u001b[32m'\\n'\u001b[0m, file: IO\u001b[1m[\u001b[0mstr\u001b[1m]\u001b[0m = \u001b[3;35mNone\u001b[0m, flush: bool = \u001b[3;91mFalse\u001b[0m\u001b[1m)\u001b[0m: \u001b[34m│\u001b[0m\n",
       "\u001b[34m│\u001b[0m                                                                                         \u001b[34m│\u001b[0m\n",
       "\u001b[34m│\u001b[0m \u001b[36mPrint object\u001b[0m\u001b[1;36m(\u001b[0m\u001b[36ms\u001b[0m\u001b[1;36m)\u001b[0m\u001b[36m supplied via positional arguments.\u001b[0m                                      \u001b[34m│\u001b[0m\n",
       "\u001b[34m│\u001b[0m \u001b[36mThis function has an identical signature to the built-in print.\u001b[0m                         \u001b[34m│\u001b[0m\n",
       "\u001b[34m│\u001b[0m \u001b[36mFor more advanced features, see the :class:`~rich.console.Console` class.\u001b[0m               \u001b[34m│\u001b[0m\n",
       "\u001b[34m│\u001b[0m                                                                                         \u001b[34m│\u001b[0m\n",
       "\u001b[34m│\u001b[0m \u001b[1;36m35\u001b[0m\u001b[3m attribute\u001b[0m\u001b[1;3m(\u001b[0m\u001b[3ms\u001b[0m\u001b[1;3m)\u001b[0m\u001b[3m not shown.\u001b[0m Run \u001b[1;31minspect\u001b[0m\u001b[1m(\u001b[0minspect\u001b[1m)\u001b[0m for options.                            \u001b[34m│\u001b[0m\n",
       "\u001b[34m╰─────────────────────────────────────────────────────────────────────────────────────────╯\u001b[0m\n"
      ]
     },
     "metadata": {},
     "output_type": "display_data"
    }
   ],
   "source": [
    "rich.inspect(rich.print)"
   ]
  },
  {
   "cell_type": "markdown",
   "id": "grand-morrison",
   "metadata": {
    "tags": []
   },
   "source": [
    "## ToDo\n",
    "\n",
    "* Validate your config files using [schemas](https://github.com/Julian/jsonschema/).\n",
    "* Design your pipelines using [Snakemake](https://bitbucket.org/snakemake/snakemake).\n",
    "* moviepy\n",
    "* https://github.com/tqdm/tqdm\n",
    "* https://github.com/pyca/cryptography\n",
    "* numba\n",
    "* pythran\n",
    "* https://github.com/cloudpipe/cloudpickle\n",
    "* jupytext\n",
    "* tensorflow\n",
    "* filprofiler\n",
    "* https://github.com/mitmproxy/mitmproxy\n",
    "* https://github.com/secdev/scapy\n",
    "* https://github.com/emeryberger/scalene\n",
    "* https://github.com/joerick/pyinstrument"
   ]
  }
 ],
 "metadata": {
  "kernelspec": {
   "display_name": "Python 3",
   "language": "python",
   "name": "python3"
  },
  "language_info": {
   "codemirror_mode": {
    "name": "ipython",
    "version": 3
   },
   "file_extension": ".py",
   "mimetype": "text/x-python",
   "name": "python",
   "nbconvert_exporter": "python",
   "pygments_lexer": "ipython3",
   "version": "3.8.6"
  },
  "toc-autonumbering": true
 },
 "nbformat": 4,
 "nbformat_minor": 5
}
